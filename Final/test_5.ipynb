{
 "cells": [
  {
   "cell_type": "code",
   "execution_count": 99,
   "metadata": {
    "collapsed": false
   },
   "outputs": [],
   "source": [
    "import numpy as np\n",
    "import pandas\n",
    "data = pandas.read_csv('./features.csv',index_col='match_id')\n",
    "cols = [col for col in data.columns if col not in ['duration', 'radiant_win','tower_status_radiant','tower_status_dire',\n",
    "                                                   'barracks_status_radiant','barracks_status_dire']]\n",
    "X_train = data[cols]\n",
    "y_train = data['radiant_win']"
   ]
  },
  {
   "cell_type": "code",
   "execution_count": 100,
   "metadata": {
    "collapsed": false
   },
   "outputs": [
    {
     "name": "stdout",
     "output_type": "stream",
     "text": [
      "first_blood_time\n",
      "first_blood_team\n",
      "first_blood_player1\n",
      "first_blood_player2\n",
      "radiant_bottle_time\n",
      "radiant_courier_time\n",
      "radiant_flying_courier_time\n",
      "radiant_first_ward_time\n",
      "dire_bottle_time\n",
      "dire_courier_time\n",
      "dire_flying_courier_time\n",
      "dire_first_ward_time\n"
     ]
    },
    {
     "name": "stderr",
     "output_type": "stream",
     "text": [
      "C:\\Users\\Екатерина\\Anaconda3\\lib\\site-packages\\ipykernel\\__main__.py:6: SettingWithCopyWarning: \n",
      "A value is trying to be set on a copy of a slice from a DataFrame.\n",
      "Try using .loc[row_indexer,col_indexer] = value instead\n",
      "\n",
      "See the caveats in the documentation: http://pandas.pydata.org/pandas-docs/stable/indexing.html#indexing-view-versus-copy\n"
     ]
    }
   ],
   "source": [
    "#находим признаки с пропусками и заполняем их нулями\n",
    "c_total=len(X_train)\n",
    "for s in list(X_train.columns.values):\n",
    "    if X_train[s].count()<c_total:\n",
    "        print (s)\n",
    "        X_train[s]=X_train[s].fillna(0)"
   ]
  },
  {
   "cell_type": "code",
   "execution_count": 101,
   "metadata": {
    "collapsed": false
   },
   "outputs": [
    {
     "name": "stdout",
     "output_type": "stream",
     "text": [
      "Time elapsed: 0:02:06.695564\n",
      "Roc_auc_score: 0.689317616006\n"
     ]
    }
   ],
   "source": [
    "#градиентный бустинг с 30 деревьями\n",
    "from sklearn.cross_validation import KFold\n",
    "from sklearn.ensemble import GradientBoostingClassifier\n",
    "from sklearn.metrics import roc_auc_score\n",
    "import time\n",
    "import datetime\n",
    "\n",
    "kf=KFold(len(X_train), n_folds=5, shuffle=True)\n",
    "clf = GradientBoostingClassifier(n_estimators=30)\n",
    "scores=[]\n",
    "start_time = datetime.datetime.now()\n",
    "for train, test in kf:\n",
    "    clf.fit(X_train.iloc[train],y_train.iloc[train])\n",
    "    pred = clf.predict_proba(X_train.iloc[test])[:, 1]\n",
    "    scores.append(roc_auc_score(y_train.iloc[test],pred))\n",
    "print ('Time elapsed:', datetime.datetime.now() - start_time)\n",
    "print ('Roc_auc_score:',np.mean(scores))"
   ]
  },
  {
   "cell_type": "code",
   "execution_count": 102,
   "metadata": {
    "collapsed": false
   },
   "outputs": [
    {
     "name": "stdout",
     "output_type": "stream",
     "text": [
      "Time elapsed 10: 0:00:43.149494\n",
      "Roc_auc_score 10: 0.663843012008\n",
      "Time elapsed 20: 0:01:24.645728\n",
      "Roc_auc_score 20: 0.681949655856\n"
     ]
    }
   ],
   "source": [
    "#тесты для 10 и 20 деревьев\n",
    "clf = GradientBoostingClassifier(n_estimators=10)\n",
    "scores=[]\n",
    "start_time = datetime.datetime.now()\n",
    "for train, test in kf:\n",
    "    clf.fit(X_train.iloc[train],y_train.iloc[train])\n",
    "    pred = clf.predict_proba(X_train.iloc[test])[:, 1]\n",
    "    scores.append(roc_auc_score(y_train.iloc[test],pred))\n",
    "print ('Time elapsed 10:', datetime.datetime.now() - start_time)\n",
    "print ('Roc_auc_score 10:',np.mean(scores))\n",
    "\n",
    "clf = GradientBoostingClassifier(n_estimators=20)\n",
    "scores=[]\n",
    "start_time = datetime.datetime.now()\n",
    "for train, test in kf:\n",
    "    clf.fit(X_train.iloc[train],y_train.iloc[train])\n",
    "    pred = clf.predict_proba(X_train.iloc[test])[:, 1]\n",
    "    scores.append(roc_auc_score(y_train.iloc[test],pred))\n",
    "print ('Time elapsed 20:', datetime.datetime.now() - start_time)\n",
    "print ('Roc_auc_score 20:',np.mean(scores))"
   ]
  },
  {
   "cell_type": "code",
   "execution_count": 103,
   "metadata": {
    "collapsed": false
   },
   "outputs": [
    {
     "name": "stdout",
     "output_type": "stream",
     "text": [
      "Time elapsed 40 :  0:02:51.870963\n",
      "Roc_auc_score 40 :  0.694169927929\n",
      "Time elapsed 50 :  0:03:36.205800\n",
      "Roc_auc_score 50 :  0.69720137533\n",
      "Time elapsed 70 :  0:05:02.147261\n",
      "Roc_auc_score 70 :  0.701689204291\n"
     ]
    }
   ],
   "source": [
    "#тесты для большего числа деревьев\n",
    "for n in [40,50,70]:\n",
    "    clf = GradientBoostingClassifier(n_estimators=n)\n",
    "    scores=[]\n",
    "    start_time = datetime.datetime.now()\n",
    "    for train, test in kf:\n",
    "        clf.fit(X_train.iloc[train],y_train.iloc[train])\n",
    "        pred = clf.predict_proba(X_train.iloc[test])[:, 1]\n",
    "        scores.append(roc_auc_score(y_train.iloc[test],pred))\n",
    "    print ('Time elapsed',n,': ', datetime.datetime.now() - start_time)\n",
    "    print ('Roc_auc_score',n,': ',np.mean(scores))"
   ]
  },
  {
   "cell_type": "code",
   "execution_count": 62,
   "metadata": {
    "collapsed": true
   },
   "outputs": [],
   "source": [
    "#масштабирование признаков\n",
    "from sklearn.preprocessing import StandardScaler\n",
    "scaler = StandardScaler()\n",
    "X_tr_scaled=scaler.fit_transform(X_train)"
   ]
  },
  {
   "cell_type": "code",
   "execution_count": 66,
   "metadata": {
    "collapsed": false
   },
   "outputs": [
    {
     "name": "stdout",
     "output_type": "stream",
     "text": [
      "C:  0.01\n",
      "Roc_auc_score:  0.716349032459\n"
     ]
    }
   ],
   "source": [
    "#логистическая регрессия с поиском оптимального параметра С\n",
    "from sklearn.linear_model import LogisticRegression\n",
    "from sklearn.grid_search import GridSearchCV\n",
    "grid = {'C': np.power(10.0, np.arange(-5, 5))}\n",
    "lr = LogisticRegression(penalty='l2')\n",
    "gs = GridSearchCV(lr, grid, scoring='roc_auc', cv=kf)\n",
    "gs.fit(X_tr_scaled, y_train)\n",
    "print ('C: ',gs.best_params_['C'])\n",
    "print ('Roc_auc_score: ',gs.best_score_)"
   ]
  },
  {
   "cell_type": "code",
   "execution_count": 67,
   "metadata": {
    "collapsed": false
   },
   "outputs": [
    {
     "name": "stdout",
     "output_type": "stream",
     "text": [
      "Time elapsed: 0:00:10.915144\n",
      "Roc_auc_score: 0.716349034577\n"
     ]
    }
   ],
   "source": [
    "#для сравнения времени работы с градиентным бустингом\n",
    "lr = LogisticRegression(penalty='l2',C=0.01)\n",
    "scores=[]\n",
    "start_time = datetime.datetime.now()\n",
    "for train, test in kf:\n",
    "    lr.fit(X_tr_scaled[train],y_train.iloc[train])\n",
    "    pred = lr.predict_proba(X_tr_scaled[test])[:, 1]\n",
    "    scores.append(roc_auc_score(y_train.iloc[test],pred))\n",
    "print ('Time elapsed:', datetime.datetime.now() - start_time)\n",
    "print ('Roc_auc_score:',np.mean(scores))"
   ]
  },
  {
   "cell_type": "code",
   "execution_count": 68,
   "metadata": {
    "collapsed": true
   },
   "outputs": [],
   "source": [
    "#убираем категориальные признаки\n",
    "cols = [col for col in X_train.columns if col not in ['lobby_type','r1_hero', 'r2_hero', 'r3_hero', 'r4_hero', 'r5_hero', \n",
    "                                                   'd1_hero', 'd2_hero', 'd3_hero', 'd4_hero', 'd5_hero']]\n",
    "X_train_new = X_train[cols]"
   ]
  },
  {
   "cell_type": "code",
   "execution_count": 70,
   "metadata": {
    "collapsed": true
   },
   "outputs": [],
   "source": [
    "#заново масштабируем\n",
    "X_train_new_scaled=scaler.fit_transform(X_train_new)"
   ]
  },
  {
   "cell_type": "code",
   "execution_count": 71,
   "metadata": {
    "collapsed": false
   },
   "outputs": [
    {
     "name": "stdout",
     "output_type": "stream",
     "text": [
      "C:  0.01\n",
      "Roc_auc_score:  0.716362219745\n"
     ]
    }
   ],
   "source": [
    "#логистическая регрессия с поиском оптимального параметра С для новой выборки\n",
    "grid = {'C': np.power(10.0, np.arange(-5, 5))}\n",
    "lr = LogisticRegression(penalty='l2')\n",
    "gs = GridSearchCV(lr, grid, scoring='roc_auc', cv=kf)\n",
    "gs.fit(X_train_new_scaled, y_train)\n",
    "print ('C: ',gs.best_params_['C'])\n",
    "print ('Roc_auc_score: ',gs.best_score_)"
   ]
  },
  {
   "cell_type": "code",
   "execution_count": 74,
   "metadata": {
    "collapsed": false
   },
   "outputs": [
    {
     "name": "stdout",
     "output_type": "stream",
     "text": [
      "108\n"
     ]
    }
   ],
   "source": [
    "#считаем число различных героев\n",
    "heroes=data[['r1_hero', 'r2_hero', 'r3_hero', 'r4_hero', 'r5_hero', 'd1_hero', 'd2_hero', 'd3_hero', 'd4_hero', 'd5_hero']].values\n",
    "print (len(np.unique(heroes.reshape(-1))))"
   ]
  },
  {
   "cell_type": "code",
   "execution_count": 90,
   "metadata": {
    "collapsed": false
   },
   "outputs": [],
   "source": [
    "#мешок слов по героям\n",
    "N=max(np.unique(heroes))\n",
    "X_pick = np.zeros((data.shape[0], N))\n",
    "\n",
    "for i, match_id in enumerate(data.index):\n",
    "    for p in range(5):\n",
    "        X_pick[i, data.ix[match_id, 'r%d_hero' % (p+1)]-1] = 1\n",
    "        X_pick[i, data.ix[match_id, 'd%d_hero' % (p+1)]-1] = -1\n",
    "X_h = pandas.DataFrame(np.hstack((X_train_new.values, X_pick)))"
   ]
  },
  {
   "cell_type": "code",
   "execution_count": 84,
   "metadata": {
    "collapsed": true
   },
   "outputs": [],
   "source": [
    "#заново масштабируем\n",
    "X_h_scaled=scaler.fit_transform(X_h)"
   ]
  },
  {
   "cell_type": "code",
   "execution_count": 85,
   "metadata": {
    "collapsed": false
   },
   "outputs": [
    {
     "name": "stdout",
     "output_type": "stream",
     "text": [
      "C:  0.01\n",
      "Roc_auc_score:  0.751907874923\n"
     ]
    }
   ],
   "source": [
    "#логистическая регрессия с поиском оптимального параметра С для выборки с героями\n",
    "grid = {'C': np.power(10.0, np.arange(-5, 5))}\n",
    "lr = LogisticRegression(penalty='l2')\n",
    "gs = GridSearchCV(lr, grid, scoring='roc_auc', cv=kf)\n",
    "gs.fit(X_h_scaled, y_train)\n",
    "print ('C: ',gs.best_params_['C'])\n",
    "print ('Roc_auc_score: ',gs.best_score_)"
   ]
  },
  {
   "cell_type": "code",
   "execution_count": 94,
   "metadata": {
    "collapsed": false
   },
   "outputs": [],
   "source": [
    "#загружаем тестовую выборку и трансформируем\n",
    "test=pandas.read_csv('./features_test.csv',index_col='match_id')\n",
    "c_total=len(test)\n",
    "for s in list(test.columns.values):\n",
    "    if test[s].count()<c_total:\n",
    "        test[s]=test[s].fillna(0)\n",
    "cols = [col for col in test.columns if col not in ['lobby_type','r1_hero', 'r2_hero', 'r3_hero', 'r4_hero', 'r5_hero', \n",
    "                                                   'd1_hero', 'd2_hero', 'd3_hero', 'd4_hero', 'd5_hero']]\n",
    "test_new = test[cols]\n",
    "\n",
    "test_pick = np.zeros((test.shape[0], N))\n",
    "\n",
    "for i, match_id in enumerate(test.index):\n",
    "    for p in range(5):\n",
    "        test_pick[i, test.ix[match_id, 'r%d_hero' % (p+1)]-1] = 1\n",
    "        test_pick[i, test.ix[match_id, 'd%d_hero' % (p+1)]-1] = -1\n",
    "X_test = pandas.DataFrame(np.hstack((test_new.values, test_pick)))\n",
    "X_test_scaled=scaler.transform(X_test)"
   ]
  },
  {
   "cell_type": "code",
   "execution_count": 98,
   "metadata": {
    "collapsed": false
   },
   "outputs": [
    {
     "name": "stdout",
     "output_type": "stream",
     "text": [
      "Prediction:  [ 0.82270839  0.75210182  0.18893925 ...,  0.23787704  0.62823222\n",
      "  0.42755372]\n",
      "Proba min:  0.00849095194724\n",
      "Proba max:  0.996277624036\n"
     ]
    }
   ],
   "source": [
    "#строим прогноз для тестовой выборки по последнему алгоритму, т.к. у него максимальное качество из всех\n",
    "print ('Prediction: ',gs.predict_proba(X_test_scaled)[:, 1])\n",
    "print ('Proba min: ',min(gs.predict_proba(X_test_scaled)[:, 1]))\n",
    "print ('Proba max: ',max(gs.predict_proba(X_test_scaled)[:, 1]))"
   ]
  }
 ],
 "metadata": {
  "kernelspec": {
   "display_name": "Python 3",
   "language": "python",
   "name": "python3"
  },
  "language_info": {
   "codemirror_mode": {
    "name": "ipython",
    "version": 3
   },
   "file_extension": ".py",
   "mimetype": "text/x-python",
   "name": "python",
   "nbconvert_exporter": "python",
   "pygments_lexer": "ipython3",
   "version": "3.5.1"
  }
 },
 "nbformat": 4,
 "nbformat_minor": 0
}
