{
 "cells": [
  {
   "cell_type": "markdown",
   "metadata": {},
   "source": [
    "## Градиентный бустинг"
   ]
  },
  {
   "cell_type": "code",
   "execution_count": 16,
   "metadata": {
    "collapsed": false,
    "scrolled": true
   },
   "outputs": [
    {
     "name": "stdout",
     "output_type": "stream",
     "text": [
      "5 0.634705531722\n",
      "Time of work =  0:01:01.758262\n",
      "10 0.664587137728\n",
      "Time of work =  0:01:57.444897\n",
      "20 0.682015122953\n",
      "Time of work =  0:03:52.778148\n",
      "30 0.689156519957\n",
      "Time of work =  0:05:45.002559\n",
      "40 0.694262120354\n",
      "Time of work =  0:07:38.051232\n",
      "45 0.696057085524\n",
      "Time of work =  0:08:39.966769\n",
      "50 0.697546279241\n",
      "Time of work =  0:09:37.326525\n",
      "55 0.69880283734\n",
      "Time of work =  0:10:36.979186\n",
      "60 0.699974098913\n",
      "Time of work =  0:11:44.643634\n",
      "65 0.701096062688\n",
      "Time of work =  0:12:37.893317\n",
      "70 0.702029755609\n",
      "Time of work =  0:13:38.010306\n",
      "[0.63470553172218414, 0.66458713772835831, 0.6820151229527236, 0.68915651995687222, 0.69426212035371271, 0.69605708552422896, 0.69754627924141155, 0.69880283734005899, 0.69997409891289608, 0.70109606268792712, 0.70202975560910919]\n"
     ]
    }
   ],
   "source": [
    "import pandas as pd\n",
    "import numpy as np\n",
    "from sklearn.ensemble import GradientBoostingClassifier as GBC\n",
    "from sklearn.cross_validation import KFold, cross_val_score\n",
    "from sklearn.metrics import roc_auc_score\n",
    "import datetime\n",
    "\n",
    "features = pd.read_csv('features.csv', index_col='match_id')\n",
    "\n",
    "############################### Градиентный бустинг ##############################\n",
    "#данные, которые известны по первым пяти минутам\n",
    "features_X = features.ix[:,0:102]\n",
    "features_X = features_X.fillna(0)\n",
    "\n",
    "# Поскольку мы пытаемся определить, кто выиграл матч, то столбец, который содержит целевую переменную - radiant_win.\n",
    "features_y = np.ravel(features.ix[:,'radiant_win':'radiant_win'])\n",
    "\n",
    "# выведу на печать названия столбцов с пропусками\n",
    "for i in range(102):\n",
    "    if features_X.ix[:,i:i+1].count()[0] < len(features_X.ix[:,0:1]):\n",
    "        print(features_X.ix[:,i:i+1].columns.values[0])\n",
    "\n",
    "# аналогично, но в одну строку\n",
    "#features_with_pass = [features_clean.ix[:,i:i+1].columns.values[0] for i in range(102) if features_clean.ix[:,i:i+1].count()[0] < len(features_clean.ix[:,i:i+1])]\n",
    "#print(features_with_pass)\n",
    "\n",
    "\n",
    "# cross-validation\n",
    "# проводим по пяти блокам\n",
    "kf = KFold(len(features_X.ix[:,0:1]), n_folds=5,random_state=13, shuffle=True)\n",
    "\n",
    "est = [] #estimations\n",
    "start_time = datetime.datetime.now()\n",
    "for num_tree in [5,10,20,30,40,45,50,55,60,65,70]:\n",
    "    clf = GBC(n_estimators=num_tree,random_state=13)\n",
    "    Pred = clf.fit(features_X, features_y)\n",
    "    Estimation = cross_val_score(Pred, features_X, y=features_y, scoring='roc_auc', cv=kf).mean()\n",
    "    est.append(Estimation)\n",
    "    print(num_tree, Estimation)\n",
    "    print(\"Time of work = \", datetime.datetime.now() - start_time)\n",
    "    start_time = datetime.datetime.now()\n",
    "\n",
    "# Выведу список оценок \n",
    "print(est)\n",
    "\n"
   ]
  },
  {
   "cell_type": "markdown",
   "metadata": {},
   "source": [
    "### График изменения качества  от числа деревье"
   ]
  },
  {
   "cell_type": "code",
   "execution_count": 17,
   "metadata": {
    "collapsed": false
   },
   "outputs": [
    {
     "data": {
      "text/plain": [
       "[<matplotlib.lines.Line2D at 0x7ff0c1d32ba8>]"
      ]
     },
     "execution_count": 17,
     "metadata": {},
     "output_type": "execute_result"
    },
    {
     "data": {
      "image/png": "[encoded data removed]",
      "text/plain": [
       "<matplotlib.figure.Figure at 0x7ff0c2447630>"
      ]
     },
     "metadata": {},
     "output_type": "display_data"
    }
   ],
   "source": [
    "import matplotlib.pyplot as plt\n",
    "%matplotlib inline\n",
    "plt.figure()\n",
    "num_tree = [5,10,20,30,40,45,50,55,60,65,70]\n",
    "Estimation = [0.63470553172218414, 0.66458713772835831, 0.6820151229527236, 0.68915651995687222, 0.69426212035371271, 0.69605708552422896, 0.69754627924141155, 0.69880283734005899, 0.69997409891289608, 0.70109606268792712, 0.70202975560910919]\n",
    "\n",
    "plt.plot(num_tree, Estimation, linewidth=2)"
   ]
  },
  {
   "cell_type": "markdown",
   "metadata": {},
   "source": [
    "### Целевая переменная\n",
    "Поскольку мы пытаемся определить, кто выиграл матч, то столбец, который содержит целевую переменную - __radiant_win__."
   ]
  },
  {
   "cell_type": "markdown",
   "metadata": {},
   "source": [
    "### Признаки, пропущенные для 12 столбцов:\n",
    "first_blood_time,\n",
    "first_blood_team,\n",
    "first_blood_player1,\n",
    "first_blood_player2,\n",
    "radiant_bottle_time,\n",
    "radiant_courier_time,\n",
    "radiant_flying_courier_time,\n",
    "radiant_first_ward_time,\n",
    "dire_bottle_time,\n",
    "dire_courier_time,\n",
    "dire_flying_courier_time,\n",
    "dire_first_ward_time.\n",
    "\n",
    "Первым 4-м событиям соотвествует момент первого убийства героя в игре. Раз есть пропуски, значит к 6-й минуте ни одного убийства совершено не было. Это может говорить о том, что уровень игроков в командах примерый равный, игроки, скорее, всего осторожничают:)\n",
    "Далее 8 признаков, по четыре для каждой команды. Есть пропуск, значит никто не преобретал предметы bootle, courier, flying_courier, наблюдатель также не был установлен."
   ]
  },
  {
   "cell_type": "markdown",
   "metadata": {},
   "source": [
    "### Время выполнения кросс-валидации. Качество.\n",
    "Для градиентного бустинга с 30 деревьями 5 минут 45 секунд (железо Core i3 2.24GHz, 3MB L2 cash).\n",
    "Качество примерно 0,689 в этом случае.\n",
    "\n",
    "Изменял количество деревьев с 5 до 70. Мне кажется, что есть смысл использовать 40 деревьев, а вот больше - уже вопрос. При росте числа деревьев с 30 до 40 качество классификации растёт на 0,005, то есть на 0,5%, а вот при росте с 40 до 70 - 0,8%. При этом время обучения увеличивавется с 7 минут 38 сек до 13 минут 38 секунд.\n",
    "\n",
    "### Уменьшения временным затрат\n",
    "Для этого, как предлагается разработчиками, можно сделать подвыборку и уменьшить число деревьев."
   ]
  },
  {
   "cell_type": "markdown",
   "metadata": {},
   "source": [
    "### Уменьшение глубины дерева\n",
    "Попробую уменьшить глубину дерева с 3 до 2 и оценить влияение этого фактора на время выполнения"
   ]
  },
  {
   "cell_type": "code",
   "execution_count": 19,
   "metadata": {
    "collapsed": false
   },
   "outputs": [
    {
     "name": "stdout",
     "output_type": "stream",
     "text": [
      "Качество =  0.682005440034\n",
      "Time of work =  0:03:56.700292\n"
     ]
    }
   ],
   "source": [
    "import pandas as pd\n",
    "import numpy as np\n",
    "from sklearn.ensemble import GradientBoostingClassifier as GBC\n",
    "from sklearn.cross_validation import KFold, cross_val_score\n",
    "from sklearn.metrics import roc_auc_score\n",
    "import datetime\n",
    "\n",
    "features = pd.read_csv('features.csv', index_col='match_id')\n",
    "\n",
    "############################### Градиентный бустинг ##############################\n",
    "#данные, которые известны по первым пяти минутам\n",
    "features_X = features.ix[:,0:102]\n",
    "features_X = features_X.fillna(0)\n",
    "\n",
    "# Поскольку мы пытаемся определить, кто выиграл матч, то столбец, который содержит целевую переменную - radiant_win.\n",
    "features_y = np.ravel(features.ix[:,'radiant_win':'radiant_win'])\n",
    "\n",
    "# cross-validation\n",
    "# проводим по пяти блокам\n",
    "kf = KFold(len(features_X.ix[:,0:1]), n_folds=5,random_state=13, shuffle=True)\n",
    "\n",
    "start_time = datetime.datetime.now()\n",
    "\n",
    "clf = GBC(n_estimators=30,random_state=13, max_depth=2)\n",
    "Pred = clf.fit(features_X, features_y)\n",
    "Estimation = cross_val_score(Pred, features_X, y=features_y, scoring='roc_auc', cv=kf).mean()\n",
    "print(\"Качество = \", Estimation)\n",
    "print(\"Time of work = \", datetime.datetime.now() - start_time)\n"
   ]
  },
  {
   "cell_type": "markdown",
   "metadata": {},
   "source": [
    "Видно, что время работы сократилось примерно на 1 минуту и вместо 5 минут 45 секунд стало 3 минуты 57 секунд. Качество при этом упало на 0,7%, с 0,689 до 0,682. \n",
    "Мне кажется, такая оптимизация не очень хороша, слишком много теряем в качестве."
   ]
  },
  {
   "cell_type": "markdown",
   "metadata": {},
   "source": [
    "## Логистическая регрессия\n",
    "\n",
    "На первом этапе нормализую значения, затем проверю, с каким значением С результат получается наиболее точным."
   ]
  },
  {
   "cell_type": "code",
   "execution_count": 10,
   "metadata": {
    "collapsed": false
   },
   "outputs": [
    {
     "name": "stdout",
     "output_type": "stream",
     "text": [
      "0.0001 0.71116651754\n",
      "Time of work =  0:00:12.009498\n",
      "0.001 0.716162440279\n",
      "Time of work =  0:00:23.725271\n",
      "0.01 0.716365263911\n",
      "Time of work =  0:00:30.622088\n",
      "0.1 0.716343288358\n",
      "Time of work =  0:00:31.171823\n",
      "1.0 0.716338851814\n",
      "Time of work =  0:00:30.861070\n",
      "10 0.716338659243\n",
      "Time of work =  0:00:30.419523\n",
      "100 0.716338597882\n",
      "Time of work =  0:00:29.644611\n",
      "1000 0.716338572489\n",
      "Time of work =  0:00:29.246702\n",
      "10000 0.716338565074\n",
      "Time of work =  0:00:29.553985\n",
      "C_max =  0.01 Est_max =  0.716365263911\n"
     ]
    }
   ],
   "source": [
    "from sklearn.preprocessing import StandardScaler\n",
    "from sklearn.linear_model import LogisticRegression as LR\n",
    "\n",
    "features = pd.read_csv('features.csv', index_col='match_id')\n",
    "\n",
    "############################### Градиентный бустинг ##############################\n",
    "#данные, которые известны по первым пяти минутам\n",
    "features_X = features.ix[:,0:102]\n",
    "features_X = features_X.fillna(0)\n",
    "\n",
    "# Поскольку мы пытаемся определить, кто выиграл матч, то столбец, который содержит целевую переменную - radiant_win.\n",
    "features_y = np.ravel(features.ix[:,'radiant_win':'radiant_win'])\n",
    "\n",
    "kf = KFold(len(features_X.ix[:,0:1]), n_folds=5, random_state=13, shuffle=True)\n",
    "\n",
    "# Нормализую признаки\n",
    "scaler = StandardScaler()\n",
    "X_scaled = scaler.fit_transform(features_X)\n",
    "\n",
    "start_time = datetime.datetime.now()\n",
    "Est_max = 0\n",
    "C_max = 0\n",
    "for C in [0.0001, 0.001, 0.01, 0.1, 1.0, 10, 100, 1000, 10000]:\n",
    "    log = LR(penalty='l2',C=C)\n",
    "    Pred = log.fit(X_scaled, features_y)\n",
    "    Estimation = cross_val_score(Pred, X_scaled, y=features_y, scoring=\"roc_auc\", cv=kf).mean()\n",
    "    if Estimation > Est_max:\n",
    "        Est_max = Estimation\n",
    "        C_max = C\n",
    "    print(C, Estimation)\n",
    "    print(\"Time of work = \", datetime.datetime.now() - start_time)\n",
    "    start_time = datetime.datetime.now()\n",
    "print(\"C_max = \", C_max, \"Est_max = \", Est_max)"
   ]
  },
  {
   "cell_type": "markdown",
   "metadata": {},
   "source": [
    "Как видно выше, наилучший результат достигнут при С = 0,01 (судя по описанию С, это значит, что регуляризация проведена жестко). Наилучший результат предсказания - 0,716. Странно, что значение лучше, чем в случае градиентного бустинга.\n",
    "При этом скорость работы логистической регрессии на порядок выше: вместо 5-10 минут она выполняется 30 секунд."
   ]
  },
  {
   "cell_type": "markdown",
   "metadata": {},
   "source": [
    "### Удаление категориальных признаков\n",
    "Удалю столбцы с категориальными признаками и проверю качество классификации после этого"
   ]
  },
  {
   "cell_type": "code",
   "execution_count": 13,
   "metadata": {
    "collapsed": false
   },
   "outputs": [],
   "source": [
    "features_X.drop('lobby_type', axis = 1, inplace=True)\n",
    "features_X.drop('r1_hero', axis = 1, inplace=True)\n",
    "features_X.drop('r2_hero', axis = 1, inplace=True)\n",
    "features_X.drop('r3_hero', axis = 1, inplace=True)\n",
    "features_X.drop('r4_hero', axis = 1, inplace=True)\n",
    "features_X.drop('r5_hero', axis = 1, inplace=True)\n",
    "features_X.drop('d1_hero', axis = 1, inplace=True)\n",
    "features_X.drop('d2_hero', axis = 1, inplace=True)\n",
    "features_X.drop('d3_hero', axis = 1, inplace=True)\n",
    "features_X.drop('d4_hero', axis = 1, inplace=True)\n",
    "features_X.drop('d5_hero', axis = 1, inplace=True)\n"
   ]
  },
  {
   "cell_type": "code",
   "execution_count": 14,
   "metadata": {
    "collapsed": false
   },
   "outputs": [
    {
     "name": "stdout",
     "output_type": "stream",
     "text": [
      "0.0001 0.711191507509\n",
      "Time of work =  0:00:11.043414\n",
      "0.001 0.716232573193\n",
      "Time of work =  0:00:20.005264\n",
      "0.01 0.71642978577\n",
      "Time of work =  0:00:26.350675\n",
      "0.1 0.716409710153\n",
      "Time of work =  0:00:28.047257\n",
      "1.0 0.716406667309\n",
      "Time of work =  0:00:28.254835\n",
      "10 0.716406360334\n",
      "Time of work =  0:00:27.873628\n",
      "100 0.716406185612\n",
      "Time of work =  0:00:27.964491\n",
      "1000 0.716406176098\n",
      "Time of work =  0:00:28.068867\n",
      "10000 0.716406196218\n",
      "Time of work =  0:00:28.234604\n",
      "C_max =  0.01 Est_max =  0.71642978577\n"
     ]
    }
   ],
   "source": [
    "kf = KFold(len(features_X.ix[:,0:1]), n_folds=5, random_state=13, shuffle=True)\n",
    "\n",
    "# Нормализую признаки\n",
    "scaler = StandardScaler()\n",
    "X_scaled = scaler.fit_transform(features_X)\n",
    "\n",
    "start_time = datetime.datetime.now()\n",
    "Est_max = 0\n",
    "C_max = 0\n",
    "for C in [0.0001, 0.001, 0.01, 0.1, 1.0, 10, 100, 1000, 10000]:\n",
    "    log = LR(penalty='l2',C=C)\n",
    "    Pred = log.fit(X_scaled, features_y)\n",
    "    Estimation = cross_val_score(Pred, X_scaled, y=features_y, scoring=\"roc_auc\", cv=kf).mean()\n",
    "    if Estimation > Est_max:\n",
    "        Est_max = Estimation\n",
    "        C_max = C\n",
    "    print(C, Estimation)\n",
    "    print(\"Time of work = \", datetime.datetime.now() - start_time)\n",
    "    start_time = datetime.datetime.now()\n",
    "print(\"C_max = \", C_max, \"Est_max = \", Est_max)"
   ]
  },
  {
   "cell_type": "markdown",
   "metadata": {},
   "source": [
    "Незначительно, на 0.00006, то есть на 0,006% отличаются результаты по сравнению с результатами с учётом категориальных признаков.  Вероятно, у удалённых признаков были незначительные веса."
   ]
  },
  {
   "cell_type": "markdown",
   "metadata": {
    "collapsed": true
   },
   "source": [
    "### Подсчёт уникальных героев\n",
    "Объединил множества героев, чтобы не смотреть каждое по отдельности для radiant и dare.\n",
    "Получилось 108 уникальных героев. Индексы 24, 107, 108, 111 не попадаются в выборке. Последний используемый индекс - 112."
   ]
  },
  {
   "cell_type": "code",
   "execution_count": 15,
   "metadata": {
    "collapsed": false
   },
   "outputs": [
    {
     "name": "stdout",
     "output_type": "stream",
     "text": [
      "Hero with index =  24 is absent.\n",
      "Hero with index =  107 is absent.\n",
      "Hero with index =  108 is absent.\n",
      "Hero with index =  111 is absent.\n",
      "Hero with index =  113 is absent.\n",
      "Hero with index =  114 is absent.\n",
      "Hero with index =  115 is absent.\n",
      "Hero with index =  116 is absent.\n",
      "Hero with index =  117 is absent.\n",
      "Hero with index =  118 is absent.\n",
      "Hero with index =  119 is absent.\n",
      "108\n",
      "Hero with index =  24 is absent.\n",
      "Hero with index =  107 is absent.\n",
      "Hero with index =  108 is absent.\n",
      "Hero with index =  111 is absent.\n",
      "Hero with index =  113 is absent.\n",
      "Hero with index =  114 is absent.\n",
      "Hero with index =  115 is absent.\n",
      "Hero with index =  116 is absent.\n",
      "Hero with index =  117 is absent.\n",
      "Hero with index =  118 is absent.\n",
      "Hero with index =  119 is absent.\n",
      "108\n"
     ]
    }
   ],
   "source": [
    "features = pd.read_csv('features.csv', index_col='match_id')\n",
    "# данные, которые известны по первым пяти минутам\n",
    "features_X = features.ix[:,0:102]\n",
    "features_X = features_X.fillna(0)\n",
    "\n",
    "Index_of_r1_hero, Count = np.unique(features_X.ix[:,'r1_hero'], return_counts=True)\n",
    "Index_of_r2_hero, Count = np.unique(features_X.ix[:,'r2_hero'], return_counts=True)\n",
    "Index_of_r3_hero, Count = np.unique(features_X.ix[:,'r3_hero'], return_counts=True)\n",
    "Index_of_r4_hero, Count = np.unique(features_X.ix[:,'r4_hero'], return_counts=True)\n",
    "Index_of_r5_hero, Count = np.unique(features_X.ix[:,'r5_hero'], return_counts=True)\n",
    "Index_of_d1_hero, Count = np.unique(features_X.ix[:,'d1_hero'], return_counts=True)\n",
    "Index_of_d2_hero, Count = np.unique(features_X.ix[:,'d2_hero'], return_counts=True)\n",
    "Index_of_d3_hero, Count = np.unique(features_X.ix[:,'d3_hero'], return_counts=True)\n",
    "Index_of_d4_hero, Count = np.unique(features_X.ix[:,'d4_hero'], return_counts=True)\n",
    "Index_of_d5_hero, Count = np.unique(features_X.ix[:,'d5_hero'], return_counts=True)\n",
    "\n",
    "Index_of_r = Index_of_r1_hero | Index_of_r2_hero | Index_of_r3_hero | Index_of_r4_hero | Index_of_r5_hero\n",
    "Index_of_d = Index_of_d1_hero | Index_of_d2_hero | Index_of_d3_hero | Index_of_d4_hero | Index_of_d5_hero\n",
    "\n",
    "# Взял 120, потому посмотрел, что 108 уникальных элементов и чтобы с запасом все это закрыть.\n",
    "\n",
    "for i in range(1,120):\n",
    "    if i not in Index_of_r:\n",
    "        print(\"Hero with index = \", i, \"is absent.\")\n",
    "print(len(Index_of_r))\n",
    "\n",
    "for i in range(1,120):\n",
    "    if i not in Index_of_d:\n",
    "        print(\"Hero with index = \", i, \"is absent.\")\n",
    "print(len(Index_of_d))"
   ]
  },
  {
   "cell_type": "markdown",
   "metadata": {
    "collapsed": true
   },
   "source": [
    "### Добавление новых признаков\n",
    "Признаки, основанные на участие или не участие героев в матче."
   ]
  },
  {
   "cell_type": "code",
   "execution_count": 16,
   "metadata": {
    "collapsed": false
   },
   "outputs": [
    {
     "name": "stdout",
     "output_type": "stream",
     "text": [
      "0.0001 0.74276768024\n",
      "0.001 0.75161128273\n",
      "0.01 0.751961835254\n",
      "0.1 0.75192996745\n",
      "1.0 0.751926015046\n",
      "10 0.751924912234\n",
      "100 0.751924758606\n",
      "1000 0.751924748001\n",
      "10000 0.751924735286\n",
      "C_max =  0.01 Est_max =  0.751961835254\n"
     ]
    }
   ],
   "source": [
    "from sklearn.preprocessing import StandardScaler\n",
    "\n",
    "# поскокльку выше удалил уже категориальные признаки, считаю массив снова и перепишу выборку features_X\n",
    "features_X = features.ix[:,0:102]\n",
    "features_X = features_X.fillna(0)\n",
    "\n",
    "# Теперь создам столбцы, каждый из которых соотвествует герою и отражает участие его в матче и сторону,\n",
    "# за которую он выступал. Для начала они будут отдельным массивом\n",
    "X_pick = np.zeros((features_X.shape[0], 112))\n",
    "for i, match_id in enumerate(features_X.index):\n",
    "    for p in range(1,6):\n",
    "        X_pick[i, features_X.ix[match_id, 'r%d_hero' % p]-1] = 1\n",
    "        X_pick[i, features_X.ix[match_id, 'd%d_hero' % p]-1] = -1\n",
    "\n",
    "# Теперь можно удалить столбцы с категорийными признаками из начального массива\n",
    "# П.С. Понял, что удаляю не красиво:):)\n",
    "features_X.drop('lobby_type', axis = 1, inplace=True)\n",
    "features_X.drop('r1_hero', axis = 1, inplace=True)\n",
    "features_X.drop('r2_hero', axis = 1, inplace=True)\n",
    "features_X.drop('r3_hero', axis = 1, inplace=True)\n",
    "features_X.drop('r4_hero', axis = 1, inplace=True)\n",
    "features_X.drop('r5_hero', axis = 1, inplace=True)\n",
    "features_X.drop('d1_hero', axis = 1, inplace=True)\n",
    "features_X.drop('d2_hero', axis = 1, inplace=True)\n",
    "features_X.drop('d3_hero', axis = 1, inplace=True)\n",
    "features_X.drop('d4_hero', axis = 1, inplace=True)\n",
    "features_X.drop('d5_hero', axis = 1, inplace=True)\n",
    "\n",
    "# Склею массива\n",
    "X = np.concatenate((features_X, X_pick), axis=1)\n",
    "\n",
    "# Ответы на обучающей выборке\n",
    "y = np.ravel(features.ix[:,'radiant_win':'radiant_win'])\n",
    "\n",
    "# Кросс-валидация\n",
    "kf = KFold(len(features_X.ix[:,0:1]), n_folds=5, random_state=13, shuffle=True)\n",
    "\n",
    "# Нормализую признаки\n",
    "scaler = StandardScaler()\n",
    "X_scaled = scaler.fit_transform(X)\n",
    "\n",
    "# Проверю, какое С является наилучшим в этом случае\n",
    "Est_max = 0\n",
    "C_max = 0\n",
    "for C in [0.0001, 0.001, 0.01, 0.1, 1.0, 10, 100, 1000, 10000]:\n",
    "    log = LR(penalty='l2',C=C)\n",
    "    Pred = log.fit(X_scaled, features_y)\n",
    "    Estimation = cross_val_score(Pred, X_scaled, y=features_y, scoring=\"roc_auc\", cv=kf).mean()\n",
    "    if Estimation > Est_max:\n",
    "        Est_max = Estimation\n",
    "        C_max = C\n",
    "    print(C, Estimation)\n",
    "print(\"C_max = \", C_max, \"Est_max = \", Est_max)\n"
   ]
  },
  {
   "cell_type": "markdown",
   "metadata": {
    "collapsed": true
   },
   "source": [
    "Качество получилось лучше, чем при когда эти признаки не используются. При том существенно. Наилуший вариант получился опять же при использовании параметра С = 0,01. Верный ответ выдавался в 75,20 вариантах, что практически на 3,6%, чем без использования этих признаков.\n",
    "Причина, как мне кажется в том, что есть герои сильные, а есть слабые. И от выбора героя многое зависит (другими словами, на предыдущем шаге мы искусственно ослабляли наши исходные данные\n",
    "). И учёт этих признаков сильно повышает качество классификации."
   ]
  },
  {
   "cell_type": "markdown",
   "metadata": {},
   "source": [
    "### Обучение итогового алгоритма логистической регрессии\n",
    "Использую наилучшее значение коэффициента С = 0,01. "
   ]
  },
  {
   "cell_type": "code",
   "execution_count": 17,
   "metadata": {
    "collapsed": false
   },
   "outputs": [
    {
     "name": "stdout",
     "output_type": "stream",
     "text": [
      "0.991294099231 0.00367128407457 0.996328715925 0.00870590076923\n"
     ]
    }
   ],
   "source": [
    "# Считаю тестовую выборку\n",
    "Test = pd.read_csv('features_test.csv', index_col=\"match_id\").ix[:,:]\n",
    "Test = Test.fillna(0)\n",
    "\n",
    "# Займус \"категориальных признаков\"\n",
    "Pick_test = np.zeros((Test.shape[0], 112))\n",
    "\n",
    "for i, match_id in enumerate(Test.index):\n",
    "    for p in range(1,6):\n",
    "        Pick_test[i, Test.ix[match_id, 'r%d_hero' % p]-1] = 1\n",
    "        Pick_test[i, Test.ix[match_id, 'd%d_hero' % p]-1] = -1\n",
    "\n",
    "Test.drop('lobby_type', axis = 1, inplace=True)\n",
    "Test.drop('r1_hero', axis = 1, inplace=True)\n",
    "Test.drop('r2_hero', axis = 1, inplace=True)\n",
    "Test.drop('r3_hero', axis = 1, inplace=True)\n",
    "Test.drop('r4_hero', axis = 1, inplace=True)\n",
    "Test.drop('r5_hero', axis = 1, inplace=True)\n",
    "Test.drop('d1_hero', axis = 1, inplace=True)\n",
    "Test.drop('d2_hero', axis = 1, inplace=True)\n",
    "Test.drop('d3_hero', axis = 1, inplace=True)\n",
    "Test.drop('d4_hero', axis = 1, inplace=True)\n",
    "Test.drop('d5_hero', axis = 1, inplace=True)\n",
    "\n",
    "Test_en = np.concatenate((Test, Pick_test), axis=1)\n",
    "Test_scaled = scaler.fit_transform(Test_en)\n",
    "\n",
    "# Использую оптимальный С и отмаштабированный уже X_scaled чтобы обучить алгоритм\n",
    "log = LR(penalty='l2',C=0.01)\n",
    "log.fit(X_scaled, y)\n",
    "\n",
    "# Получу массив вероятноятностей побед команд.\n",
    "y_pred = log.predict_proba(Test_scaled)\n",
    "\n",
    "# Выведу на печать значения минимальной и максимальной вероятностей для каждого из столбцов\n",
    "# для того, чтобы убедиться, что они находятся внутри отрезка [0,1].\n",
    "print(max(y_pred[:,0]), min(y_pred[:,0]), max(y_pred[:,1]), min(y_pred[:,1]))"
   ]
  },
  {
   "cell_type": "markdown",
   "metadata": {},
   "source": [
    "Видно, что значения вероятностей лежат в пределах отрезка [0,1]"
   ]
  }
 ],
 "metadata": {
  "kernelspec": {
   "display_name": "Python 3",
   "language": "python",
   "name": "python3"
  },
  "language_info": {
   "codemirror_mode": {
    "name": "ipython",
    "version": 3
   },
   "file_extension": ".py",
   "mimetype": "text/x-python",
   "name": "python",
   "nbconvert_exporter": "python",
   "pygments_lexer": "ipython3",
   "version": "3.5.1"
  }
 },
 "nbformat": 4,
 "nbformat_minor": 0
}
