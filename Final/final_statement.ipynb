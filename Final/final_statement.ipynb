{
 "cells": [
  {
   "cell_type": "code",
   "execution_count": 1,
   "metadata": {
    "collapsed": true
   },
   "outputs": [],
   "source": [
    "%matplotlib inline"
   ]
  },
  {
   "cell_type": "code",
   "execution_count": 2,
   "metadata": {
    "collapsed": false
   },
   "outputs": [],
   "source": [
    "import pandas as pd\n",
    "import matplotlib.pyplot as plt\n",
    "import numpy as np\n",
    "import datetime\n",
    "from sklearn.cross_validation import cross_val_score\n",
    "from sklearn.cross_validation import KFold\n",
    "from sklearn.ensemble import GradientBoostingClassifier\n",
    "from sklearn.linear_model import LogisticRegression\n",
    "from sklearn.grid_search import GridSearchCV\n",
    "from sklearn.preprocessing import StandardScaler"
   ]
  },
  {
   "cell_type": "code",
   "execution_count": 3,
   "metadata": {
    "collapsed": false
   },
   "outputs": [
    {
     "data": {
      "text/html": [
       "<div>\n",
       "<table border=\"1\" class=\"dataframe\">\n",
       "  <thead>\n",
       "    <tr style=\"text-align: right;\">\n",
       "      <th></th>\n",
       "      <th>start_time</th>\n",
       "      <th>lobby_type</th>\n",
       "      <th>r1_hero</th>\n",
       "      <th>r1_level</th>\n",
       "      <th>r1_xp</th>\n",
       "      <th>r1_gold</th>\n",
       "      <th>r1_lh</th>\n",
       "      <th>r1_kills</th>\n",
       "      <th>r1_deaths</th>\n",
       "      <th>r1_items</th>\n",
       "      <th>...</th>\n",
       "      <th>dire_boots_count</th>\n",
       "      <th>dire_ward_observer_count</th>\n",
       "      <th>dire_ward_sentry_count</th>\n",
       "      <th>dire_first_ward_time</th>\n",
       "      <th>duration</th>\n",
       "      <th>radiant_win</th>\n",
       "      <th>tower_status_radiant</th>\n",
       "      <th>tower_status_dire</th>\n",
       "      <th>barracks_status_radiant</th>\n",
       "      <th>barracks_status_dire</th>\n",
       "    </tr>\n",
       "    <tr>\n",
       "      <th>match_id</th>\n",
       "      <th></th>\n",
       "      <th></th>\n",
       "      <th></th>\n",
       "      <th></th>\n",
       "      <th></th>\n",
       "      <th></th>\n",
       "      <th></th>\n",
       "      <th></th>\n",
       "      <th></th>\n",
       "      <th></th>\n",
       "      <th></th>\n",
       "      <th></th>\n",
       "      <th></th>\n",
       "      <th></th>\n",
       "      <th></th>\n",
       "      <th></th>\n",
       "      <th></th>\n",
       "      <th></th>\n",
       "      <th></th>\n",
       "      <th></th>\n",
       "      <th></th>\n",
       "    </tr>\n",
       "  </thead>\n",
       "  <tbody>\n",
       "    <tr>\n",
       "      <th>0</th>\n",
       "      <td>1430198770</td>\n",
       "      <td>7</td>\n",
       "      <td>11</td>\n",
       "      <td>5</td>\n",
       "      <td>2098</td>\n",
       "      <td>1489</td>\n",
       "      <td>20</td>\n",
       "      <td>0</td>\n",
       "      <td>0</td>\n",
       "      <td>7</td>\n",
       "      <td>...</td>\n",
       "      <td>4</td>\n",
       "      <td>2</td>\n",
       "      <td>2</td>\n",
       "      <td>-52</td>\n",
       "      <td>2874</td>\n",
       "      <td>1</td>\n",
       "      <td>1796</td>\n",
       "      <td>0</td>\n",
       "      <td>51</td>\n",
       "      <td>0</td>\n",
       "    </tr>\n",
       "    <tr>\n",
       "      <th>1</th>\n",
       "      <td>1430220345</td>\n",
       "      <td>0</td>\n",
       "      <td>42</td>\n",
       "      <td>4</td>\n",
       "      <td>1188</td>\n",
       "      <td>1033</td>\n",
       "      <td>9</td>\n",
       "      <td>0</td>\n",
       "      <td>1</td>\n",
       "      <td>12</td>\n",
       "      <td>...</td>\n",
       "      <td>4</td>\n",
       "      <td>3</td>\n",
       "      <td>1</td>\n",
       "      <td>-5</td>\n",
       "      <td>2463</td>\n",
       "      <td>1</td>\n",
       "      <td>1974</td>\n",
       "      <td>0</td>\n",
       "      <td>63</td>\n",
       "      <td>1</td>\n",
       "    </tr>\n",
       "    <tr>\n",
       "      <th>2</th>\n",
       "      <td>1430227081</td>\n",
       "      <td>7</td>\n",
       "      <td>33</td>\n",
       "      <td>4</td>\n",
       "      <td>1319</td>\n",
       "      <td>1270</td>\n",
       "      <td>22</td>\n",
       "      <td>0</td>\n",
       "      <td>0</td>\n",
       "      <td>12</td>\n",
       "      <td>...</td>\n",
       "      <td>4</td>\n",
       "      <td>3</td>\n",
       "      <td>1</td>\n",
       "      <td>13</td>\n",
       "      <td>2130</td>\n",
       "      <td>0</td>\n",
       "      <td>0</td>\n",
       "      <td>1830</td>\n",
       "      <td>0</td>\n",
       "      <td>63</td>\n",
       "    </tr>\n",
       "    <tr>\n",
       "      <th>3</th>\n",
       "      <td>1430263531</td>\n",
       "      <td>1</td>\n",
       "      <td>29</td>\n",
       "      <td>4</td>\n",
       "      <td>1779</td>\n",
       "      <td>1056</td>\n",
       "      <td>14</td>\n",
       "      <td>0</td>\n",
       "      <td>0</td>\n",
       "      <td>5</td>\n",
       "      <td>...</td>\n",
       "      <td>4</td>\n",
       "      <td>2</td>\n",
       "      <td>0</td>\n",
       "      <td>27</td>\n",
       "      <td>1459</td>\n",
       "      <td>0</td>\n",
       "      <td>1920</td>\n",
       "      <td>2047</td>\n",
       "      <td>50</td>\n",
       "      <td>63</td>\n",
       "    </tr>\n",
       "    <tr>\n",
       "      <th>4</th>\n",
       "      <td>1430282290</td>\n",
       "      <td>7</td>\n",
       "      <td>13</td>\n",
       "      <td>4</td>\n",
       "      <td>1431</td>\n",
       "      <td>1090</td>\n",
       "      <td>8</td>\n",
       "      <td>1</td>\n",
       "      <td>0</td>\n",
       "      <td>8</td>\n",
       "      <td>...</td>\n",
       "      <td>3</td>\n",
       "      <td>3</td>\n",
       "      <td>0</td>\n",
       "      <td>-16</td>\n",
       "      <td>2449</td>\n",
       "      <td>0</td>\n",
       "      <td>4</td>\n",
       "      <td>1974</td>\n",
       "      <td>3</td>\n",
       "      <td>63</td>\n",
       "    </tr>\n",
       "  </tbody>\n",
       "</table>\n",
       "<p>5 rows × 108 columns</p>\n",
       "</div>"
      ],
      "text/plain": [
       "          start_time  lobby_type  r1_hero  r1_level  r1_xp  r1_gold  r1_lh  \\\n",
       "match_id                                                                     \n",
       "0         1430198770           7       11         5   2098     1489     20   \n",
       "1         1430220345           0       42         4   1188     1033      9   \n",
       "2         1430227081           7       33         4   1319     1270     22   \n",
       "3         1430263531           1       29         4   1779     1056     14   \n",
       "4         1430282290           7       13         4   1431     1090      8   \n",
       "\n",
       "          r1_kills  r1_deaths  r1_items          ...           \\\n",
       "match_id                                         ...            \n",
       "0                0          0         7          ...            \n",
       "1                0          1        12          ...            \n",
       "2                0          0        12          ...            \n",
       "3                0          0         5          ...            \n",
       "4                1          0         8          ...            \n",
       "\n",
       "          dire_boots_count  dire_ward_observer_count  dire_ward_sentry_count  \\\n",
       "match_id                                                                       \n",
       "0                        4                         2                       2   \n",
       "1                        4                         3                       1   \n",
       "2                        4                         3                       1   \n",
       "3                        4                         2                       0   \n",
       "4                        3                         3                       0   \n",
       "\n",
       "          dire_first_ward_time  duration  radiant_win  tower_status_radiant  \\\n",
       "match_id                                                                      \n",
       "0                          -52      2874            1                  1796   \n",
       "1                           -5      2463            1                  1974   \n",
       "2                           13      2130            0                     0   \n",
       "3                           27      1459            0                  1920   \n",
       "4                          -16      2449            0                     4   \n",
       "\n",
       "          tower_status_dire  barracks_status_radiant  barracks_status_dire  \n",
       "match_id                                                                    \n",
       "0                         0                       51                     0  \n",
       "1                         0                       63                     1  \n",
       "2                      1830                        0                    63  \n",
       "3                      2047                       50                    63  \n",
       "4                      1974                        3                    63  \n",
       "\n",
       "[5 rows x 108 columns]"
      ]
     },
     "execution_count": 3,
     "metadata": {},
     "output_type": "execute_result"
    }
   ],
   "source": [
    "train_df = pd.read_csv('features.csv', index_col='match_id')\n",
    "test_df = pd.read_csv('features_test.csv', index_col='match_id')\n",
    "train_df.head()"
   ]
  },
  {
   "cell_type": "markdown",
   "metadata": {},
   "source": [
    "# Подход 1: градиентный бустинг \"в лоб\""
   ]
  },
  {
   "cell_type": "markdown",
   "metadata": {},
   "source": [
    "Исключаем целевую переменную 'radiant_win' и признаки итогов матча"
   ]
  },
  {
   "cell_type": "code",
   "execution_count": 4,
   "metadata": {
    "collapsed": false
   },
   "outputs": [],
   "source": [
    "train_x, train_y = train_df.drop(['radiant_win', 'duration', 'tower_status_radiant' , 'tower_status_dire', \n",
    "                           'barracks_status_radiant', 'barracks_status_dire'], axis=1), train_df['radiant_win']"
   ]
  },
  {
   "cell_type": "markdown",
   "metadata": {},
   "source": [
    "Выведем колонки с пропущенными признаками"
   ]
  },
  {
   "cell_type": "code",
   "execution_count": 5,
   "metadata": {
    "collapsed": false
   },
   "outputs": [
    {
     "data": {
      "text/plain": [
       "first_blood_time               77677\n",
       "first_blood_team               77677\n",
       "first_blood_player1            77677\n",
       "first_blood_player2            53243\n",
       "radiant_bottle_time            81539\n",
       "radiant_courier_time           96538\n",
       "radiant_flying_courier_time    69751\n",
       "radiant_first_ward_time        95394\n",
       "dire_bottle_time               81087\n",
       "dire_courier_time              96554\n",
       "dire_flying_courier_time       71132\n",
       "dire_first_ward_time           95404\n",
       "dtype: int64"
      ]
     },
     "execution_count": 5,
     "metadata": {},
     "output_type": "execute_result"
    }
   ],
   "source": [
    "count_values = train_x.count()\n",
    "count_values[count_values < train_x.shape[0]]"
   ]
  },
  {
   "cell_type": "markdown",
   "metadata": {},
   "source": [
    "Пропущены данные по признакам 'first_blood', и признаки покупок для команд 'radiant' и 'dire'. Событие 'first_blood' означает, что на момент записи признака не произошли события \"первая кровь\"(никто ни кого не ранил). А остальные говорит об отсутствии покупки предметов ('bottle', 'carrier', 'flying courier') командами 'Radiant' и 'Dire' соответственно. Отсутствие признака 'ward_time' говорит о том, что команда не установила наблюдателя на поле."
   ]
  },
  {
   "cell_type": "markdown",
   "metadata": {},
   "source": [
    "Заменем пропуски 0"
   ]
  },
  {
   "cell_type": "code",
   "execution_count": 6,
   "metadata": {
    "collapsed": true
   },
   "outputs": [],
   "source": [
    "train_x = train_x.fillna(value=0)"
   ]
  },
  {
   "cell_type": "code",
   "execution_count": 7,
   "metadata": {
    "collapsed": false
   },
   "outputs": [
    {
     "name": "stdout",
     "output_type": "stream",
     "text": [
      "Trees: 10\n",
      "Time elapsed: 0:00:56.140000\n",
      "Acc.: 0.66483\n",
      "Trees: 20\n",
      "Time elapsed: 0:01:41.765000\n",
      "Acc.: 0.68211\n",
      "Trees: 30\n",
      "Time elapsed: 0:02:24.372000\n",
      "Acc.: 0.68969\n"
     ]
    }
   ],
   "source": [
    "RANDOM_STATE = 1\n",
    "cv = KFold(train_x.shape[0], n_folds=5, shuffle=True, random_state=RANDOM_STATE)\n",
    "for n_trees in (10, 20, 30):\n",
    "    print 'Trees: {:}'.format(n_trees)\n",
    "    start_time = datetime.datetime.now()\n",
    "    clf = GradientBoostingClassifier(n_estimators=n_trees, random_state=RANDOM_STATE)\n",
    "    cv_res = cross_val_score(clf, train_x, train_y, cv=cv, scoring='roc_auc', n_jobs=4)\n",
    "    mean_acc = cv_res.mean()\n",
    "    print 'Time elapsed:', datetime.datetime.now() - start_time\n",
    "    print 'Acc.: {:.5f}'.format(mean_acc)        "
   ]
  },
  {
   "cell_type": "markdown",
   "metadata": {
    "collapsed": true
   },
   "source": [
    "Таким образом для тренировки классификатора на 30 деревьях понадобилось 2 минуты 24 секунд. Качество модели при этом составило 0.68969. Дальнейшее увеличение количества деревьев не дает существенного прироста точности. Для ускорения обучения можно настроить параметры классификатора, как-то максимальную глубину дерева 'max_depth', количество используемых признаков 'max_features' или количество данных в узле дерева (используя параметры 'min_samples_split' или 'min_samples_leaf')."
   ]
  },
  {
   "cell_type": "markdown",
   "metadata": {},
   "source": [
    "# Подход 2: логистическая регрессия"
   ]
  },
  {
   "cell_type": "code",
   "execution_count": 8,
   "metadata": {
    "collapsed": false
   },
   "outputs": [
    {
     "name": "stdout",
     "output_type": "stream",
     "text": [
      "Time elapsed: 0:00:06.067000\n",
      "Acc.: 0.51347\n"
     ]
    }
   ],
   "source": [
    "grid = {'C': np.power(10.0, np.arange(-5, 6))}\n",
    "RANDOM_STATE = 1\n",
    "cv = KFold(train_x.shape[0], n_folds=5, shuffle=True, random_state=RANDOM_STATE)\n",
    "clf = LogisticRegression(random_state=RANDOM_STATE)\n",
    "gs = GridSearchCV(clf, grid, scoring='roc_auc', cv=cv, n_jobs=4)\n",
    "gs.fit(train_x, train_y)\n",
    "max_score, params = 0, None\n",
    "for a in gs.grid_scores_:\n",
    "    if a.mean_validation_score > max_score:\n",
    "        max_score = a.mean_validation_score\n",
    "        params = a.parameters\n",
    "start_time = datetime.datetime.now()\n",
    "clf = LogisticRegression(random_state=RANDOM_STATE, C=params['C'])\n",
    "cv_res = cross_val_score(clf, train_x, train_y, cv=cv, scoring='roc_auc', n_jobs=4)\n",
    "mean_acc = cv_res.mean()\n",
    "print 'Time elapsed:', datetime.datetime.now() - start_time\n",
    "print 'Acc.: {:.5f}'.format(mean_acc)       "
   ]
  },
  {
   "cell_type": "markdown",
   "metadata": {},
   "source": [
    "На всех данных классификатор показал точность 0.51347, при этом обучение заняло 3 секунды. Классификатор обучается быстрее, но и качество модели явно меньше. На качество могли повлиять разные масштабы признаков. Уберем категориальные признаки и применим к признакам StandardScaler."
   ]
  },
  {
   "cell_type": "code",
   "execution_count": 9,
   "metadata": {
    "collapsed": true
   },
   "outputs": [],
   "source": [
    "train_x_new = train_x.drop(['lobby_type', 'r1_hero', 'r2_hero', 'r3_hero', 'r4_hero', 'r5_hero', \n",
    "                        'd1_hero', 'd2_hero', 'd3_hero', 'd4_hero', 'd5_hero'], axis=1)\n",
    "scaler = StandardScaler()\n",
    "X_train_scaled = scaler.fit_transform(train_x_new)"
   ]
  },
  {
   "cell_type": "code",
   "execution_count": 10,
   "metadata": {
    "collapsed": false
   },
   "outputs": [
    {
     "name": "stdout",
     "output_type": "stream",
     "text": [
      "Time elapsed: 0:00:14.495000\n",
      "Acc.: 0.71641\n"
     ]
    }
   ],
   "source": [
    "cv = KFold(X_train_scaled.shape[0], n_folds=5, shuffle=True, random_state=RANDOM_STATE)\n",
    "clf = LogisticRegression(random_state=RANDOM_STATE)\n",
    "gs = GridSearchCV(clf, grid, scoring='roc_auc', cv=cv, n_jobs=4)\n",
    "gs.fit(X_train_scaled, train_y)\n",
    "max_score, params = 0, None\n",
    "for a in gs.grid_scores_:\n",
    "    if a.mean_validation_score > max_score:\n",
    "        max_score = a.mean_validation_score\n",
    "        params = a.parameters\n",
    "start_time = datetime.datetime.now()\n",
    "clf = LogisticRegression(random_state=RANDOM_STATE, C=params['C'])\n",
    "cv_res = cross_val_score(clf, X_train_scaled, train_y, cv=cv, scoring='roc_auc', n_jobs=4)\n",
    "mean_acc = cv_res.mean()\n",
    "print 'Time elapsed:', datetime.datetime.now() - start_time\n",
    "print 'Acc.: {:.5f}'.format(mean_acc)       "
   ]
  },
  {
   "cell_type": "markdown",
   "metadata": {
    "collapsed": true
   },
   "source": [
    "Точность классификатора повысилась до 0.71641. Время необходимое для обучение также выросло до 14 секунд. Категориальные признаки учитывались как числовые и оказывали значительное влияние на результат модели."
   ]
  },
  {
   "cell_type": "code",
   "execution_count": 11,
   "metadata": {
    "collapsed": false
   },
   "outputs": [
    {
     "name": "stdout",
     "output_type": "stream",
     "text": [
      "108\n",
      "112\n"
     ]
    }
   ],
   "source": [
    "heroes = train_x[['r1_hero', 'r2_hero', 'r3_hero', 'r4_hero', 'r5_hero', \n",
    "                        'd1_hero', 'd2_hero', 'd3_hero', 'd4_hero', 'd5_hero']].stack()\n",
    "print heroes.value_counts().shape[0]\n",
    "print heroes.max()"
   ]
  },
  {
   "cell_type": "markdown",
   "metadata": {},
   "source": [
    "В игре 112 различных идентификаторов героев. В выборке есть 108"
   ]
  },
  {
   "cell_type": "code",
   "execution_count": null,
   "metadata": {
    "collapsed": false
   },
   "outputs": [],
   "source": [
    "X_pick = np.zeros((train_x.shape[0], 112))\n",
    "\n",
    "for i, match_id in enumerate(train_x.index):\n",
    "    for p in xrange(5):\n",
    "        X_pick[i, train_x.ix[match_id, 'r%d_hero' % (p+1)]-1] = 1\n",
    "        X_pick[i, train_x.ix[match_id, 'd%d_hero' % (p+1)]-1] = -1"
   ]
  },
  {
   "cell_type": "code",
   "execution_count": 13,
   "metadata": {
    "collapsed": false
   },
   "outputs": [],
   "source": [
    "from scipy.sparse import coo_matrix, hstack\n",
    "train_x_new = hstack([coo_matrix(X_train_scaled), coo_matrix(X_pick)]).toarray()"
   ]
  },
  {
   "cell_type": "code",
   "execution_count": null,
   "metadata": {
    "collapsed": false
   },
   "outputs": [
    {
     "name": "stdout",
     "output_type": "stream",
     "text": [
      "Time elapsed: 0:01:10.422000\n",
      "Acc.: 0.75100\n"
     ]
    }
   ],
   "source": [
    "cv = KFold(train_x_new.shape[0], n_folds=5, shuffle=True, random_state=RANDOM_STATE)\n",
    "clf = LogisticRegression(random_state=RANDOM_STATE)\n",
    "gs = GridSearchCV(clf, grid, scoring='roc_auc', cv=cv, n_jobs=4)\n",
    "gs.fit(train_x_new, train_y)\n",
    "max_score, params = 0, None\n",
    "for a in gs.grid_scores_:\n",
    "    if a.mean_validation_score > max_score:\n",
    "        max_score = a.mean_validation_score\n",
    "        params = a.parameters\n",
    "start_time = datetime.datetime.now()\n",
    "clf = LogisticRegression(random_state=RANDOM_STATE, C=params['C'])\n",
    "cv_res = cross_val_score(clf, train_x_new, train_y, cv=cv, scoring='roc_auc', n_jobs=4)\n",
    "mean_acc = cv_res.mean()\n",
    "print 'Time elapsed:', datetime.datetime.now() - start_time\n",
    "print 'Acc.: {:.5f}'.format(mean_acc)  "
   ]
  },
  {
   "cell_type": "markdown",
   "metadata": {},
   "source": [
    "Теперь качество модели составляет 0.75187. Добавление мешка слов по героям дает прирост качества модели в сравнении с прошлым вариантом. Т.е. информация о героях влияет на результат анализа и мы не можем ее исключать. Логистическая регрессия дает более точные результаты. Так что применем модель к тестовой выборке."
   ]
  },
  {
   "cell_type": "code",
   "execution_count": 17,
   "metadata": {
    "collapsed": false
   },
   "outputs": [
    {
     "name": "stdout",
     "output_type": "stream",
     "text": [
      "Min.: 0.00843\n",
      "Max.: 0.99637\n"
     ]
    }
   ],
   "source": [
    "clf = LogisticRegression(random_state=RANDOM_STATE, C=params['C'])\n",
    "clf.fit(train_x_new, train_y)\n",
    "test_x = test_df.fillna(value=0)\n",
    "test_x_new = test_x.drop(['lobby_type', 'r1_hero', 'r2_hero', 'r3_hero', 'r4_hero', 'r5_hero', \n",
    "                        'd1_hero', 'd2_hero', 'd3_hero', 'd4_hero', 'd5_hero'], axis=1)\n",
    "test_x_scaled = scaler.transform(test_x_new)\n",
    "X_pick = np.zeros((test_x.shape[0], 112))\n",
    "\n",
    "for i, match_id in enumerate(test_x.index):\n",
    "    for p in xrange(5):\n",
    "        X_pick[i, test_x.ix[match_id, 'r%d_hero' % (p+1)]-1] = 1\n",
    "        X_pick[i, test_x.ix[match_id, 'd%d_hero' % (p+1)]-1] = -1\n",
    "test_x_new = hstack([coo_matrix(test_x_scaled), coo_matrix(X_pick)]).toarray()\n",
    "\n",
    "pred = clf.predict_proba(test_x_new)[:, 1]\n",
    "print 'Min.: {:.5f}'.format(np.min(pred)) \n",
    "print 'Max.: {:.5f}'.format(np.max(pred)) "
   ]
  },
  {
   "cell_type": "markdown",
   "metadata": {},
   "source": [
    "Минимальное значение 0.00843. Максимальное 0.99637. "
   ]
  }
 ],
 "metadata": {
  "celltoolbar": "Raw Cell Format",
  "kernelspec": {
   "display_name": "Python 2",
   "language": "python",
   "name": "python2"
  },
  "language_info": {
   "codemirror_mode": {
    "name": "ipython",
    "version": 2
   },
   "file_extension": ".py",
   "mimetype": "text/x-python",
   "name": "python",
   "nbconvert_exporter": "python",
   "pygments_lexer": "ipython2",
   "version": "2.7.11"
  }
 },
 "nbformat": 4,
 "nbformat_minor": 0
}
