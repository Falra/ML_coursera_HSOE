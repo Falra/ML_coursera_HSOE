{
 "cells": [
  {
   "cell_type": "code",
   "execution_count": 1,
   "metadata": {
    "collapsed": false
   },
   "outputs": [
    {
     "name": "stdout",
     "output_type": "stream",
     "text": [
      "Populating the interactive namespace from numpy and matplotlib\n"
     ]
    },
    {
     "name": "stderr",
     "output_type": "stream",
     "text": [
      "C:\\Anaconda\\lib\\site-packages\\matplotlib\\__init__.py:872: UserWarning: axes.color_cycle is deprecated and replaced with axes.prop_cycle; please use the latter.\n",
      "  warnings.warn(self.msg_depr % (key, alt_key))\n"
     ]
    }
   ],
   "source": [
    "import pandas as pd\n",
    "import seaborn as sns\n",
    "import numpy as np\n",
    "import scipy\n",
    "import matplotlib.pyplot as plt\n",
    "%pylab inline"
   ]
  },
  {
   "cell_type": "markdown",
   "metadata": {},
   "source": [
    "#### Описание признаков в таблице\n",
    "\n",
    "- `match_id`: идентификатор матча в наборе данных\n",
    "- `start_time`: время начала матча (unixtime)\n",
    "- `lobby_type`: тип комнаты, в которой собираются игроки (расшифровка в `dictionaries/lobbies.csv`)\n",
    "- Наборы признаков для каждого игрока (игроки команды Radiant — префикс `rN`, Dire — `dN`):\n",
    "    - `r1_hero`: герой игрока (расшифровка в dictionaries/heroes.csv)\n",
    "    - `r1_level`: максимальный достигнутый уровень героя (за первые 5 игровых минут)\n",
    "    - `r1_xp`: максимальный полученный опыт\n",
    "    - `r1_gold`: достигнутая ценность героя\n",
    "    - `r1_lh`: число убитых юнитов\n",
    "    - `r1_kills`: число убитых игроков\n",
    "    - `r1_deaths`: число смертей героя\n",
    "    - `r1_items`: число купленных предметов\n",
    "- Признаки события \"первая кровь\" (first blood). Если событие \"первая кровь\" не успело произойти за первые 5 минут, то признаки принимают пропущенное значение\n",
    "    - `first_blood_time`: игровое время первой крови\n",
    "    - `first_blood_team`: команда, совершившая первую кровь (0 — Radiant, 1 — Dire)\n",
    "    - `first_blood_player1`: игрок, причастный к событию\n",
    "    - `first_blood_player2`: второй игрок, причастный к событию\n",
    "- Признаки для каждой команды (префиксы `radiant_` и `dire_`)\n",
    "    - `radiant_bottle_time`: время первого приобретения командой предмета \"bottle\"\n",
    "    - `radiant_courier_time`: время приобретения предмета \"courier\" \n",
    "    - `radiant_flying_courier_time`: время приобретения предмета \"flying_courier\" \n",
    "    - `radiant_tpscroll_count`: число предметов \"tpscroll\" за первые 5 минут\n",
    "    - `radiant_boots_count`: число предметов \"boots\"\n",
    "    - `radiant_ward_observer_count`: число предметов \"ward_observer\"\n",
    "    - `radiant_ward_sentry_count`: число предметов \"ward_sentry\"\n",
    "    - `radiant_first_ward_time`: время установки командой первого \"наблюдателя\", т.е. предмета, который позволяет видеть часть игрового поля\n",
    "- Итог матча (данные поля отсутствуют в тестовой выборке, поскольку содержат информацию, выходящую за пределы первых 5 минут матча)\n",
    "    - `duration`: длительность\n",
    "    - `radiant_win`: 1, если победила команда Radiant, 0 — иначе\n",
    "    - Состояние башен и барраков к концу матча (см. описание полей набора данных)\n",
    "        - `tower_status_radiant`\n",
    "        - `tower_status_dire`\n",
    "        - `barracks_status_radiant`\n",
    "        - `barracks_status_dire`"
   ]
  },
  {
   "cell_type": "markdown",
   "metadata": {},
   "source": [
    "## Подход 1: градиентный бустинг \"в лоб\""
   ]
  },
  {
   "cell_type": "code",
   "execution_count": 2,
   "metadata": {
    "collapsed": false
   },
   "outputs": [
    {
     "data": {
      "text/html": [
       "<div>\n",
       "<table border=\"1\" class=\"dataframe\">\n",
       "  <thead>\n",
       "    <tr style=\"text-align: right;\">\n",
       "      <th></th>\n",
       "      <th>start_time</th>\n",
       "      <th>lobby_type</th>\n",
       "      <th>r1_hero</th>\n",
       "      <th>r1_level</th>\n",
       "      <th>r1_xp</th>\n",
       "      <th>r1_gold</th>\n",
       "      <th>r1_lh</th>\n",
       "      <th>r1_kills</th>\n",
       "      <th>r1_deaths</th>\n",
       "      <th>r1_items</th>\n",
       "      <th>...</th>\n",
       "      <th>dire_boots_count</th>\n",
       "      <th>dire_ward_observer_count</th>\n",
       "      <th>dire_ward_sentry_count</th>\n",
       "      <th>dire_first_ward_time</th>\n",
       "      <th>duration</th>\n",
       "      <th>radiant_win</th>\n",
       "      <th>tower_status_radiant</th>\n",
       "      <th>tower_status_dire</th>\n",
       "      <th>barracks_status_radiant</th>\n",
       "      <th>barracks_status_dire</th>\n",
       "    </tr>\n",
       "    <tr>\n",
       "      <th>match_id</th>\n",
       "      <th></th>\n",
       "      <th></th>\n",
       "      <th></th>\n",
       "      <th></th>\n",
       "      <th></th>\n",
       "      <th></th>\n",
       "      <th></th>\n",
       "      <th></th>\n",
       "      <th></th>\n",
       "      <th></th>\n",
       "      <th></th>\n",
       "      <th></th>\n",
       "      <th></th>\n",
       "      <th></th>\n",
       "      <th></th>\n",
       "      <th></th>\n",
       "      <th></th>\n",
       "      <th></th>\n",
       "      <th></th>\n",
       "      <th></th>\n",
       "      <th></th>\n",
       "    </tr>\n",
       "  </thead>\n",
       "  <tbody>\n",
       "    <tr>\n",
       "      <th>0</th>\n",
       "      <td>1430198770</td>\n",
       "      <td>7</td>\n",
       "      <td>11</td>\n",
       "      <td>5</td>\n",
       "      <td>2098</td>\n",
       "      <td>1489</td>\n",
       "      <td>20</td>\n",
       "      <td>0</td>\n",
       "      <td>0</td>\n",
       "      <td>7</td>\n",
       "      <td>...</td>\n",
       "      <td>4</td>\n",
       "      <td>2</td>\n",
       "      <td>2</td>\n",
       "      <td>-52</td>\n",
       "      <td>2874</td>\n",
       "      <td>1</td>\n",
       "      <td>1796</td>\n",
       "      <td>0</td>\n",
       "      <td>51</td>\n",
       "      <td>0</td>\n",
       "    </tr>\n",
       "    <tr>\n",
       "      <th>1</th>\n",
       "      <td>1430220345</td>\n",
       "      <td>0</td>\n",
       "      <td>42</td>\n",
       "      <td>4</td>\n",
       "      <td>1188</td>\n",
       "      <td>1033</td>\n",
       "      <td>9</td>\n",
       "      <td>0</td>\n",
       "      <td>1</td>\n",
       "      <td>12</td>\n",
       "      <td>...</td>\n",
       "      <td>4</td>\n",
       "      <td>3</td>\n",
       "      <td>1</td>\n",
       "      <td>-5</td>\n",
       "      <td>2463</td>\n",
       "      <td>1</td>\n",
       "      <td>1974</td>\n",
       "      <td>0</td>\n",
       "      <td>63</td>\n",
       "      <td>1</td>\n",
       "    </tr>\n",
       "    <tr>\n",
       "      <th>2</th>\n",
       "      <td>1430227081</td>\n",
       "      <td>7</td>\n",
       "      <td>33</td>\n",
       "      <td>4</td>\n",
       "      <td>1319</td>\n",
       "      <td>1270</td>\n",
       "      <td>22</td>\n",
       "      <td>0</td>\n",
       "      <td>0</td>\n",
       "      <td>12</td>\n",
       "      <td>...</td>\n",
       "      <td>4</td>\n",
       "      <td>3</td>\n",
       "      <td>1</td>\n",
       "      <td>13</td>\n",
       "      <td>2130</td>\n",
       "      <td>0</td>\n",
       "      <td>0</td>\n",
       "      <td>1830</td>\n",
       "      <td>0</td>\n",
       "      <td>63</td>\n",
       "    </tr>\n",
       "    <tr>\n",
       "      <th>3</th>\n",
       "      <td>1430263531</td>\n",
       "      <td>1</td>\n",
       "      <td>29</td>\n",
       "      <td>4</td>\n",
       "      <td>1779</td>\n",
       "      <td>1056</td>\n",
       "      <td>14</td>\n",
       "      <td>0</td>\n",
       "      <td>0</td>\n",
       "      <td>5</td>\n",
       "      <td>...</td>\n",
       "      <td>4</td>\n",
       "      <td>2</td>\n",
       "      <td>0</td>\n",
       "      <td>27</td>\n",
       "      <td>1459</td>\n",
       "      <td>0</td>\n",
       "      <td>1920</td>\n",
       "      <td>2047</td>\n",
       "      <td>50</td>\n",
       "      <td>63</td>\n",
       "    </tr>\n",
       "    <tr>\n",
       "      <th>4</th>\n",
       "      <td>1430282290</td>\n",
       "      <td>7</td>\n",
       "      <td>13</td>\n",
       "      <td>4</td>\n",
       "      <td>1431</td>\n",
       "      <td>1090</td>\n",
       "      <td>8</td>\n",
       "      <td>1</td>\n",
       "      <td>0</td>\n",
       "      <td>8</td>\n",
       "      <td>...</td>\n",
       "      <td>3</td>\n",
       "      <td>3</td>\n",
       "      <td>0</td>\n",
       "      <td>-16</td>\n",
       "      <td>2449</td>\n",
       "      <td>0</td>\n",
       "      <td>4</td>\n",
       "      <td>1974</td>\n",
       "      <td>3</td>\n",
       "      <td>63</td>\n",
       "    </tr>\n",
       "  </tbody>\n",
       "</table>\n",
       "<p>5 rows × 108 columns</p>\n",
       "</div>"
      ],
      "text/plain": [
       "          start_time  lobby_type  r1_hero  r1_level  r1_xp  r1_gold  r1_lh  \\\n",
       "match_id                                                                     \n",
       "0         1430198770           7       11         5   2098     1489     20   \n",
       "1         1430220345           0       42         4   1188     1033      9   \n",
       "2         1430227081           7       33         4   1319     1270     22   \n",
       "3         1430263531           1       29         4   1779     1056     14   \n",
       "4         1430282290           7       13         4   1431     1090      8   \n",
       "\n",
       "          r1_kills  r1_deaths  r1_items          ...           \\\n",
       "match_id                                         ...            \n",
       "0                0          0         7          ...            \n",
       "1                0          1        12          ...            \n",
       "2                0          0        12          ...            \n",
       "3                0          0         5          ...            \n",
       "4                1          0         8          ...            \n",
       "\n",
       "          dire_boots_count  dire_ward_observer_count  dire_ward_sentry_count  \\\n",
       "match_id                                                                       \n",
       "0                        4                         2                       2   \n",
       "1                        4                         3                       1   \n",
       "2                        4                         3                       1   \n",
       "3                        4                         2                       0   \n",
       "4                        3                         3                       0   \n",
       "\n",
       "          dire_first_ward_time  duration  radiant_win  tower_status_radiant  \\\n",
       "match_id                                                                      \n",
       "0                          -52      2874            1                  1796   \n",
       "1                           -5      2463            1                  1974   \n",
       "2                           13      2130            0                     0   \n",
       "3                           27      1459            0                  1920   \n",
       "4                          -16      2449            0                     4   \n",
       "\n",
       "          tower_status_dire  barracks_status_radiant  barracks_status_dire  \n",
       "match_id                                                                    \n",
       "0                         0                       51                     0  \n",
       "1                         0                       63                     1  \n",
       "2                      1830                        0                    63  \n",
       "3                      2047                       50                    63  \n",
       "4                      1974                        3                    63  \n",
       "\n",
       "[5 rows x 108 columns]"
      ]
     },
     "execution_count": 2,
     "metadata": {},
     "output_type": "execute_result"
    }
   ],
   "source": [
    "features = pd.read_csv('C:/Users/Ilya/Downloads/features.csv', index_col='match_id')\n",
    "features.head()"
   ]
  },
  {
   "cell_type": "markdown",
   "metadata": {},
   "source": [
    "1\\. Пропуски в first\\_blood_... объясняются прямо в описании данных \"Если событие \"первая кровь\" не успело произойти за первые 5 минут, то признаки принимают пропущенное значение\". \n",
    "\n",
    "Пропуски в полях  ...\\_flying\\_courier\\_time объясняются тем, что предметы не были активированы в первые 5 минут. Flying Courier — это предмет, который создаёт маленького, быстрого, летающего осла, который может носить предметы вам и вашим союзникам с базы и из секретного магазина"
   ]
  },
  {
   "cell_type": "code",
   "execution_count": 3,
   "metadata": {
    "collapsed": false
   },
   "outputs": [
    {
     "data": {
      "text/plain": [
       "first_blood_player2            43987\n",
       "radiant_flying_courier_time    27479\n",
       "dire_flying_courier_time       26098\n",
       "first_blood_player1            19553\n",
       "first_blood_team               19553\n",
       "dtype: int64"
      ]
     },
     "execution_count": 3,
     "metadata": {},
     "output_type": "execute_result"
    }
   ],
   "source": [
    "features.isnull().sum().sort_values(ascending = False)[:5]"
   ]
  },
  {
   "cell_type": "markdown",
   "metadata": {},
   "source": [
    "2\\. Столбец, содержащий целевую переменную - radiant_win"
   ]
  },
  {
   "cell_type": "code",
   "execution_count": 4,
   "metadata": {
    "collapsed": false
   },
   "outputs": [],
   "source": [
    "#preprocessing\n",
    "#features.start_time = pd.to_datetime(features.start_time,unit='s')\n",
    "features = features.fillna(features.median())"
   ]
  },
  {
   "cell_type": "code",
   "execution_count": 5,
   "metadata": {
    "collapsed": false
   },
   "outputs": [
    {
     "data": {
      "text/plain": [
       "((48615, 102), (48615, 102), (48615L,), (48615L,))"
      ]
     },
     "execution_count": 5,
     "metadata": {},
     "output_type": "execute_result"
    }
   ],
   "source": [
    "targets = ['duration', 'radiant_win', 'tower_status_radiant', \n",
    "           'tower_status_dire', 'barracks_status_radiant', 'barracks_status_dire']\n",
    "\n",
    "from sklearn import cross_validation\n",
    "X_train, X_test, y_train, y_test = \\\n",
    "    cross_validation.train_test_split(features.drop(targets, axis = 1), features.radiant_win, test_size=0.5, random_state=1)\n",
    "    \n",
    "X_train.shape, X_test.shape, y_train.shape, y_test.shape"
   ]
  },
  {
   "cell_type": "markdown",
   "metadata": {},
   "source": [
    "3\\. Проводим перебор параметров с кроссвалидацией"
   ]
  },
  {
   "cell_type": "code",
   "execution_count": 6,
   "metadata": {
    "collapsed": false
   },
   "outputs": [
    {
     "name": "stderr",
     "output_type": "stream",
     "text": [
      "[Parallel(n_jobs=4)]: Done   5 tasks      | elapsed:   15.0s\n",
      "[Parallel(n_jobs=4)]: Done  10 tasks      | elapsed:   38.9s\n",
      "[Parallel(n_jobs=4)]: Done  17 tasks      | elapsed:  1.7min\n",
      "[Parallel(n_jobs=4)]: Done  24 tasks      | elapsed:  2.2min\n",
      "[Parallel(n_jobs=4)]: Done  33 tasks      | elapsed:  3.2min\n",
      "[Parallel(n_jobs=4)]: Done  42 tasks      | elapsed:  4.2min\n",
      "[Parallel(n_jobs=4)]: Done  53 tasks      | elapsed:  5.3min\n",
      "[Parallel(n_jobs=4)]: Done  64 tasks      | elapsed:  6.4min\n",
      "[Parallel(n_jobs=4)]: Done  77 tasks      | elapsed:  8.2min\n",
      "[Parallel(n_jobs=4)]: Done  90 tasks      | elapsed:  9.1min\n",
      "[Parallel(n_jobs=4)]: Done 100 out of 100 | elapsed: 10.7min finished\n"
     ]
    },
    {
     "name": "stdout",
     "output_type": "stream",
     "text": [
      "Fitting 5 folds for each of 20 candidates, totalling 100 fits\n",
      "Time elapsed: 0:11:09.056000\n"
     ]
    }
   ],
   "source": [
    "import datetime\n",
    "from sklearn.grid_search import GridSearchCV\n",
    "from sklearn.ensemble import GradientBoostingClassifier\n",
    "from sklearn.cross_validation import KFold\n",
    "\n",
    "start_time = datetime.datetime.now()\n",
    "\n",
    "five = KFold(len(X_train), n_folds=5, shuffle=True, random_state=1)\n",
    "\n",
    "parameters = {'n_estimators':[5,10,20,30], \n",
    "              'learning_rate':[1, 0.5, 0.3, 0.2, 0.1]}\n",
    "gb = GradientBoostingClassifier(random_state=1)\n",
    "\n",
    "grid = GridSearchCV(gb, parameters, scoring='roc_auc',\n",
    "    cv=five, verbose = 10, n_jobs=4)\n",
    "\n",
    "grid.fit(X_train, y_train)\n",
    "\n",
    "print 'Time elapsed:', datetime.datetime.now() - start_time"
   ]
  },
  {
   "cell_type": "markdown",
   "metadata": {},
   "source": [
    "3\\. Кросс-валидация для градиентного бустинга с 30 деревьями заняла примерно 2,5 минуты из 12 за счет обучения на половине выборки и распараллеливания подбора learning rate на 4 процессора. Качество на графике ниже:"
   ]
  },
  {
   "cell_type": "code",
   "execution_count": 7,
   "metadata": {
    "collapsed": false
   },
   "outputs": [
    {
     "data": {
      "text/plain": [
       "<matplotlib.text.Text at 0x231c78d0>"
      ]
     },
     "execution_count": 7,
     "metadata": {},
     "output_type": "execute_result"
    },
    {
     "data": {
      "image/png": "[encoded data removed]",
      "text/plain": [
       "<matplotlib.figure.Figure at 0x1bc293c8>"
      ]
     },
     "metadata": {},
     "output_type": "display_data"
    }
   ],
   "source": [
    "import matplotlib.cm as cm\n",
    "grid_scores = pd.DataFrame([[x.parameters['n_estimators'], x.parameters['learning_rate'], x.mean_validation_score] \n",
    "                            for x in grid.grid_scores_], columns = ['n_estimators', 'learning_rate', 'score'])\n",
    "plot = pd.crosstab(grid_scores.n_estimators, \n",
    "                   grid_scores.learning_rate, grid_scores.score, aggfunc='mean').plot(kind = 'bar', colormap=cm.winter)\n",
    "\n",
    "plot.set_ylim([0.65,0.7])\n",
    "plot.set_title('cross-validation ROC-AUC')"
   ]
  },
  {
   "cell_type": "code",
   "execution_count": 8,
   "metadata": {
    "collapsed": false
   },
   "outputs": [
    {
     "data": {
      "text/plain": [
       "GradientBoostingClassifier(init=None, learning_rate=0.5, loss='deviance',\n",
       "              max_depth=3, max_features=None, max_leaf_nodes=None,\n",
       "              min_samples_leaf=1, min_samples_split=2,\n",
       "              min_weight_fraction_leaf=0.0, n_estimators=30,\n",
       "              presort='auto', random_state=1, subsample=1.0, verbose=0,\n",
       "              warm_start=False)"
      ]
     },
     "execution_count": 8,
     "metadata": {},
     "output_type": "execute_result"
    }
   ],
   "source": [
    "gb_best = grid.best_estimator_\n",
    "gb_best"
   ]
  },
  {
   "cell_type": "markdown",
   "metadata": {},
   "source": [
    "4\\. Видно, что при 30 деревьях качество продолжает расти - следовательно, надо увеличивать количество деревьев. Для ускорения можно распараллелить подбор параметров для градиентного бустинга"
   ]
  },
  {
   "cell_type": "markdown",
   "metadata": {},
   "source": [
    "## Подход 2: логистическая регрессия"
   ]
  },
  {
   "cell_type": "markdown",
   "metadata": {},
   "source": [
    "Проводим стандартизацию"
   ]
  },
  {
   "cell_type": "code",
   "execution_count": 10,
   "metadata": {
    "collapsed": false
   },
   "outputs": [],
   "source": [
    "from sklearn.preprocessing import StandardScaler\n",
    "std = StandardScaler()\n",
    "X_train_std = pd.DataFrame(std.fit_transform(X_train), columns = X_train.columns, index = X_train.index)"
   ]
  },
  {
   "cell_type": "markdown",
   "metadata": {},
   "source": [
    "Находим параметры"
   ]
  },
  {
   "cell_type": "code",
   "execution_count": 11,
   "metadata": {
    "collapsed": false
   },
   "outputs": [
    {
     "name": "stderr",
     "output_type": "stream",
     "text": [
      "[Parallel(n_jobs=4)]: Done   5 tasks      | elapsed:   13.5s\n",
      "[Parallel(n_jobs=4)]: Done  10 tasks      | elapsed:   18.7s\n",
      "[Parallel(n_jobs=4)]: Done  17 tasks      | elapsed:   29.0s\n",
      "[Parallel(n_jobs=4)]: Done  24 tasks      | elapsed:   39.6s\n",
      "[Parallel(n_jobs=4)]: Done  35 out of  35 | elapsed:   47.1s finished\n"
     ]
    },
    {
     "name": "stdout",
     "output_type": "stream",
     "text": [
      "Fitting 5 folds for each of 7 candidates, totalling 35 fits\n",
      "Time elapsed: 0:00:51.712000\n"
     ]
    }
   ],
   "source": [
    "from sklearn.linear_model import LogisticRegression\n",
    "from sklearn.grid_search import GridSearchCV\n",
    "from sklearn.ensemble import GradientBoostingClassifier\n",
    "from sklearn.cross_validation import KFold\n",
    "\n",
    "start_time = datetime.datetime.now()\n",
    "\n",
    "five = KFold(len(X_train_std), n_folds=5, shuffle=True, random_state=1)\n",
    "\n",
    "parameters = {'C':[1,0.5, 0.2, 0.1, 0.05, 0.01, 0.001]}\n",
    "\n",
    "lg = LogisticRegression(random_state = 1)\n",
    "\n",
    "grid = GridSearchCV(lg, parameters, scoring='roc_auc',\n",
    "    cv=five, verbose = 10, n_jobs=4)\n",
    "\n",
    "grid.fit(X_train_std, y_train)\n",
    "\n",
    "print 'Time elapsed:', datetime.datetime.now() - start_time"
   ]
  },
  {
   "cell_type": "code",
   "execution_count": 12,
   "metadata": {
    "collapsed": false
   },
   "outputs": [
    {
     "name": "stdout",
     "output_type": "stream",
     "text": [
      "       C     score\n",
      "0  1.000  0.717792\n",
      "1  0.500  0.717794\n",
      "2  0.200  0.717798\n",
      "3  0.100  0.717805\n",
      "4  0.050  0.717818\n",
      "5  0.010  0.717873\n",
      "6  0.001  0.717388\n"
     ]
    },
    {
     "data": {
      "image/png": "[encoded data removed]",
      "text/plain": [
       "<matplotlib.figure.Figure at 0x1be9dd68>"
      ]
     },
     "metadata": {},
     "output_type": "display_data"
    }
   ],
   "source": [
    "import matplotlib.cm as cm\n",
    "grid_scores = pd.DataFrame([[x.parameters['C'], x.mean_validation_score] \n",
    "                            for x in grid.grid_scores_], columns = ['C', 'score'])\n",
    "plot = grid_scores.plot(x = 'C', y = 'score', kind = 'bar', colormap=cm.winter)\n",
    "\n",
    "plot.set_ylim([0.717,0.718])\n",
    "plot.set_title('cross-validation ROC-AUC')\n",
    "print grid_scores"
   ]
  },
  {
   "cell_type": "markdown",
   "metadata": {},
   "source": [
    "Качество получается чуть выше случайного леса"
   ]
  },
  {
   "cell_type": "markdown",
   "metadata": {},
   "source": [
    "Теперь выкидываем категориальные переменные с номерами героев"
   ]
  },
  {
   "cell_type": "code",
   "execution_count": 13,
   "metadata": {
    "collapsed": false,
    "scrolled": true
   },
   "outputs": [
    {
     "name": "stderr",
     "output_type": "stream",
     "text": [
      "[Parallel(n_jobs=4)]: Done   5 tasks      | elapsed:   11.9s\n",
      "[Parallel(n_jobs=4)]: Done  10 tasks      | elapsed:   16.5s\n",
      "[Parallel(n_jobs=4)]: Done  17 tasks      | elapsed:   24.2s\n",
      "[Parallel(n_jobs=4)]: Done  24 tasks      | elapsed:   32.1s\n",
      "[Parallel(n_jobs=4)]: Done  35 out of  35 | elapsed:   38.6s finished\n"
     ]
    },
    {
     "name": "stdout",
     "output_type": "stream",
     "text": [
      "Fitting 5 folds for each of 7 candidates, totalling 35 fits\n",
      "Time elapsed: 0:00:40.855000\n"
     ]
    }
   ],
   "source": [
    "from sklearn.linear_model import LogisticRegression\n",
    "from sklearn.grid_search import GridSearchCV\n",
    "from sklearn.ensemble import GradientBoostingClassifier\n",
    "from sklearn.cross_validation import KFold\n",
    "\n",
    "start_time = datetime.datetime.now()\n",
    "\n",
    "heroes = ['r%d_hero' % (p+1) for p in range(5)] + [ 'd%d_hero' % (p+1) for p in range(5)]\n",
    "\n",
    "five = KFold(len(X_train_std), n_folds=5, shuffle=True, random_state=1)\n",
    "\n",
    "parameters = {'C':[1,0.5, 0.2, 0.1, 0.05, 0.01, 0.001]}\n",
    "\n",
    "lg = LogisticRegression(random_state = 1)\n",
    "\n",
    "grid = GridSearchCV(lg, parameters, scoring='roc_auc',\n",
    "    cv=five, verbose = 10, n_jobs=4)\n",
    "\n",
    "grid.fit(X_train_std.drop(heroes, axis = 1), y_train)\n",
    "\n",
    "print 'Time elapsed:', datetime.datetime.now() - start_time"
   ]
  },
  {
   "cell_type": "code",
   "execution_count": 14,
   "metadata": {
    "collapsed": false
   },
   "outputs": [
    {
     "name": "stdout",
     "output_type": "stream",
     "text": [
      "       C     score\n",
      "0  1.000  0.717732\n",
      "1  0.500  0.717734\n",
      "2  0.200  0.717739\n",
      "3  0.100  0.717746\n",
      "4  0.050  0.717757\n",
      "5  0.010  0.717818\n",
      "6  0.001  0.717318\n"
     ]
    },
    {
     "data": {
      "image/png": "[encoded data removed]",
      "text/plain": [
       "<matplotlib.figure.Figure at 0x25e8e940>"
      ]
     },
     "metadata": {},
     "output_type": "display_data"
    }
   ],
   "source": [
    "import matplotlib.cm as cm\n",
    "grid_scores = pd.DataFrame([[x.parameters['C'], x.mean_validation_score] \n",
    "                            for x in grid.grid_scores_], columns = ['C', 'score'])\n",
    "plot = grid_scores.plot(x = 'C', y = 'score', kind = 'bar', colormap=cm.winter)\n",
    "\n",
    "plot.set_ylim([0.717,0.718])\n",
    "plot.set_title('cross-validation ROC-AUC')\n",
    "print grid_scores"
   ]
  },
  {
   "cell_type": "markdown",
   "metadata": {},
   "source": [
    "качество не упало - следовательно, в таком виде переменные героев бесполезны"
   ]
  },
  {
   "cell_type": "markdown",
   "metadata": {},
   "source": [
    "Собираем героев в ```hero_set```"
   ]
  },
  {
   "cell_type": "code",
   "execution_count": 15,
   "metadata": {
    "collapsed": false
   },
   "outputs": [
    {
     "data": {
      "text/plain": [
       "(108, 112)"
      ]
     },
     "execution_count": 15,
     "metadata": {},
     "output_type": "execute_result"
    }
   ],
   "source": [
    "hero_set = set()\n",
    "for i in range(1,6):\n",
    "    hero_set = hero_set | set(features['r'+str(i)+'_hero']) | set(features['d'+str(i)+'_hero'])\n",
    "    \n",
    "len(hero_set), max(hero_set)"
   ]
  },
  {
   "cell_type": "markdown",
   "metadata": {},
   "source": [
    "Собираем по переменной на каждого героя"
   ]
  },
  {
   "cell_type": "code",
   "execution_count": 16,
   "metadata": {
    "collapsed": false
   },
   "outputs": [],
   "source": [
    "# N — количество различных героев в выборке\n",
    "X_pick = np.zeros((features.shape[0],112))\n",
    "\n",
    "for i, match_id in enumerate(features.index):\n",
    "    for p in xrange(5):\n",
    "        X_pick[i, features.ix[match_id, 'r%d_hero' % (p+1)]-1] = 1\n",
    "        X_pick[i, features.ix[match_id, 'd%d_hero' % (p+1)]-1] = -1"
   ]
  },
  {
   "cell_type": "code",
   "execution_count": 17,
   "metadata": {
    "collapsed": false
   },
   "outputs": [
    {
     "data": {
      "text/plain": [
       "array([ -2.29353080e-03,   9.15355343e-04,   1.00791937e-03,\n",
       "         1.02848915e-05,   1.24447187e-03,   1.54273372e-04,\n",
       "         5.64640543e-03,   8.02221537e-04,   1.11076828e-03,\n",
       "        -4.83389900e-04,   3.47835030e-02,  -4.83389900e-04,\n",
       "         1.54273372e-04,   2.11868765e-03,  -2.24210635e-03,\n",
       "        -8.84500669e-04,   2.15982721e-04,  -6.17093490e-04,\n",
       "         7.40512188e-04,  -1.58387329e-03,  -4.21680551e-03,\n",
       "        -6.58233056e-04,   7.71366862e-04,   0.00000000e+00,\n",
       "        -3.71284583e-03,  -2.14954232e-03,   5.86238815e-04,\n",
       "        -2.19068189e-03,   3.49686311e-04,   1.51187905e-03,\n",
       "        -2.90033940e-03,   2.98261853e-04,   1.13133806e-04,\n",
       "         1.16219274e-03,   7.91936645e-04,   1.45016970e-03,\n",
       "         6.17093490e-05,   2.26267613e-04,  -7.98107580e-03,\n",
       "         6.17093490e-05,  -1.02848915e-04,   1.26504165e-03,\n",
       "         3.80540985e-04,   2.05697830e-04,  -4.83389900e-04,\n",
       "        -3.15746169e-03,  -5.13216086e-03,  -7.30227296e-04,\n",
       "         5.45099249e-04,   8.02221537e-04,   1.41931503e-03,\n",
       "        -2.13925743e-03,  -1.04905893e-03,  -7.19942405e-05,\n",
       "        -3.10603723e-03,   2.57122287e-04,   1.34732079e-03,\n",
       "        -1.43988481e-04,   1.54273372e-03,  -3.39401419e-04,\n",
       "        -3.90825877e-04,  -1.57358840e-03,  -6.06808598e-04,\n",
       "         2.05697830e-03,  -6.06808598e-04,   1.43988481e-04,\n",
       "         5.45099249e-04,  -4.93674792e-04,  -4.98817237e-03,\n",
       "        -1.54273372e-03,   2.10840276e-03,   1.83071069e-03,\n",
       "         1.32675100e-03,  -3.78484007e-03,  -5.45099249e-04,\n",
       "        -4.93674792e-04,  -7.19942405e-05,   6.17093490e-05,\n",
       "        -4.01110768e-04,  -1.74843155e-04,  -1.14162296e-03,\n",
       "         3.70256094e-04,   2.67407179e-04,   2.40666461e-03,\n",
       "        -5.21443999e-03,   2.75635092e-03,  -4.73105009e-04,\n",
       "        -2.36552504e-04,  -3.70256094e-04,  -9.46210017e-04,\n",
       "         3.08546745e-04,  -9.35925126e-04,   6.17093490e-05,\n",
       "        -1.18276252e-03,   2.26267613e-04,  -1.13133806e-04,\n",
       "        -1.33703589e-04,  -9.25640234e-05,   1.33703589e-04,\n",
       "        -3.15746169e-03,   3.59971202e-04,   3.49686311e-04,\n",
       "        -2.87976962e-04,   9.15355343e-04,   1.02848915e-05,\n",
       "        -2.41694950e-03,   0.00000000e+00,   0.00000000e+00,\n",
       "         3.08546745e-05,   1.41931503e-03,   0.00000000e+00,\n",
       "        -5.14244575e-04])"
      ]
     },
     "execution_count": 17,
     "metadata": {},
     "output_type": "execute_result"
    }
   ],
   "source": [
    "X_pick.mean(axis = 0)"
   ]
  },
  {
   "cell_type": "markdown",
   "metadata": {},
   "source": [
    "Есть несколько героев, которых ни разу не выбрали - оставим их для простоты кода"
   ]
  },
  {
   "cell_type": "markdown",
   "metadata": {},
   "source": [
    "Присоединяем новые переменные к уже готовым"
   ]
  },
  {
   "cell_type": "code",
   "execution_count": 18,
   "metadata": {
    "collapsed": false
   },
   "outputs": [],
   "source": [
    "X_pick = pd.DataFrame(X_pick, index = features.index, \n",
    "                      columns = ['hero_%d' % (p+1) for p in range(112)])"
   ]
  },
  {
   "cell_type": "code",
   "execution_count": 19,
   "metadata": {
    "collapsed": false
   },
   "outputs": [
    {
     "data": {
      "text/plain": [
       "((48615, 214), (48615, 102))"
      ]
     },
     "execution_count": 19,
     "metadata": {},
     "output_type": "execute_result"
    }
   ],
   "source": [
    "X_train_with_heroes = pd.concat([X_train_std, X_pick], axis = 1).dropna(axis=0).loc[y_train.index,:]\n",
    "X_train_with_heroes.shape, X_train_std.shape"
   ]
  },
  {
   "cell_type": "code",
   "execution_count": 20,
   "metadata": {
    "collapsed": false
   },
   "outputs": [
    {
     "data": {
      "text/html": [
       "<div>\n",
       "<table border=\"1\" class=\"dataframe\">\n",
       "  <thead>\n",
       "    <tr style=\"text-align: right;\">\n",
       "      <th></th>\n",
       "      <th>start_time</th>\n",
       "      <th>lobby_type</th>\n",
       "      <th>r1_hero</th>\n",
       "      <th>r1_level</th>\n",
       "      <th>r1_xp</th>\n",
       "      <th>r1_gold</th>\n",
       "      <th>r1_lh</th>\n",
       "      <th>r1_kills</th>\n",
       "      <th>r1_deaths</th>\n",
       "      <th>r1_items</th>\n",
       "      <th>...</th>\n",
       "      <th>hero_103</th>\n",
       "      <th>hero_104</th>\n",
       "      <th>hero_105</th>\n",
       "      <th>hero_106</th>\n",
       "      <th>hero_107</th>\n",
       "      <th>hero_108</th>\n",
       "      <th>hero_109</th>\n",
       "      <th>hero_110</th>\n",
       "      <th>hero_111</th>\n",
       "      <th>hero_112</th>\n",
       "    </tr>\n",
       "    <tr>\n",
       "      <th>match_id</th>\n",
       "      <th></th>\n",
       "      <th></th>\n",
       "      <th></th>\n",
       "      <th></th>\n",
       "      <th></th>\n",
       "      <th></th>\n",
       "      <th></th>\n",
       "      <th></th>\n",
       "      <th></th>\n",
       "      <th></th>\n",
       "      <th></th>\n",
       "      <th></th>\n",
       "      <th></th>\n",
       "      <th></th>\n",
       "      <th></th>\n",
       "      <th></th>\n",
       "      <th></th>\n",
       "      <th></th>\n",
       "      <th></th>\n",
       "      <th></th>\n",
       "      <th></th>\n",
       "    </tr>\n",
       "  </thead>\n",
       "  <tbody>\n",
       "    <tr>\n",
       "      <th>93221</th>\n",
       "      <td>0.899074</td>\n",
       "      <td>-0.576047</td>\n",
       "      <td>-1.240711</td>\n",
       "      <td>0.504580</td>\n",
       "      <td>0.517064</td>\n",
       "      <td>1.384979</td>\n",
       "      <td>1.419252</td>\n",
       "      <td>0.960583</td>\n",
       "      <td>-0.580809</td>\n",
       "      <td>1.484228</td>\n",
       "      <td>...</td>\n",
       "      <td>0</td>\n",
       "      <td>0</td>\n",
       "      <td>0</td>\n",
       "      <td>0</td>\n",
       "      <td>0</td>\n",
       "      <td>0</td>\n",
       "      <td>0</td>\n",
       "      <td>0</td>\n",
       "      <td>0</td>\n",
       "      <td>-1</td>\n",
       "    </tr>\n",
       "    <tr>\n",
       "      <th>63428</th>\n",
       "      <td>0.504542</td>\n",
       "      <td>-0.576047</td>\n",
       "      <td>0.265038</td>\n",
       "      <td>-0.394092</td>\n",
       "      <td>-0.894380</td>\n",
       "      <td>-1.305261</td>\n",
       "      <td>-1.128007</td>\n",
       "      <td>-0.538237</td>\n",
       "      <td>-0.580809</td>\n",
       "      <td>-0.115509</td>\n",
       "      <td>...</td>\n",
       "      <td>0</td>\n",
       "      <td>0</td>\n",
       "      <td>0</td>\n",
       "      <td>1</td>\n",
       "      <td>0</td>\n",
       "      <td>0</td>\n",
       "      <td>0</td>\n",
       "      <td>0</td>\n",
       "      <td>0</td>\n",
       "      <td>0</td>\n",
       "    </tr>\n",
       "    <tr>\n",
       "      <th>79280</th>\n",
       "      <td>0.773745</td>\n",
       "      <td>1.538646</td>\n",
       "      <td>1.862976</td>\n",
       "      <td>-1.292764</td>\n",
       "      <td>-1.182322</td>\n",
       "      <td>-0.994350</td>\n",
       "      <td>-0.906506</td>\n",
       "      <td>-0.538237</td>\n",
       "      <td>1.006288</td>\n",
       "      <td>-0.115509</td>\n",
       "      <td>...</td>\n",
       "      <td>0</td>\n",
       "      <td>0</td>\n",
       "      <td>0</td>\n",
       "      <td>0</td>\n",
       "      <td>0</td>\n",
       "      <td>0</td>\n",
       "      <td>0</td>\n",
       "      <td>0</td>\n",
       "      <td>0</td>\n",
       "      <td>1</td>\n",
       "    </tr>\n",
       "    <tr>\n",
       "      <th>8743</th>\n",
       "      <td>-1.899034</td>\n",
       "      <td>-0.576047</td>\n",
       "      <td>-0.687579</td>\n",
       "      <td>0.504580</td>\n",
       "      <td>0.490567</td>\n",
       "      <td>-0.776281</td>\n",
       "      <td>-0.463505</td>\n",
       "      <td>-0.538237</td>\n",
       "      <td>-0.580809</td>\n",
       "      <td>-0.115509</td>\n",
       "      <td>...</td>\n",
       "      <td>0</td>\n",
       "      <td>0</td>\n",
       "      <td>0</td>\n",
       "      <td>0</td>\n",
       "      <td>0</td>\n",
       "      <td>0</td>\n",
       "      <td>0</td>\n",
       "      <td>-1</td>\n",
       "      <td>0</td>\n",
       "      <td>0</td>\n",
       "    </tr>\n",
       "    <tr>\n",
       "      <th>60159</th>\n",
       "      <td>0.460992</td>\n",
       "      <td>-0.576047</td>\n",
       "      <td>0.633793</td>\n",
       "      <td>0.504580</td>\n",
       "      <td>0.333347</td>\n",
       "      <td>0.471679</td>\n",
       "      <td>1.087001</td>\n",
       "      <td>-0.538237</td>\n",
       "      <td>-0.580809</td>\n",
       "      <td>0.684359</td>\n",
       "      <td>...</td>\n",
       "      <td>0</td>\n",
       "      <td>0</td>\n",
       "      <td>0</td>\n",
       "      <td>0</td>\n",
       "      <td>0</td>\n",
       "      <td>0</td>\n",
       "      <td>0</td>\n",
       "      <td>0</td>\n",
       "      <td>0</td>\n",
       "      <td>0</td>\n",
       "    </tr>\n",
       "  </tbody>\n",
       "</table>\n",
       "<p>5 rows × 214 columns</p>\n",
       "</div>"
      ],
      "text/plain": [
       "          start_time  lobby_type   r1_hero  r1_level     r1_xp   r1_gold  \\\n",
       "match_id                                                                   \n",
       "93221       0.899074   -0.576047 -1.240711  0.504580  0.517064  1.384979   \n",
       "63428       0.504542   -0.576047  0.265038 -0.394092 -0.894380 -1.305261   \n",
       "79280       0.773745    1.538646  1.862976 -1.292764 -1.182322 -0.994350   \n",
       "8743       -1.899034   -0.576047 -0.687579  0.504580  0.490567 -0.776281   \n",
       "60159       0.460992   -0.576047  0.633793  0.504580  0.333347  0.471679   \n",
       "\n",
       "             r1_lh  r1_kills  r1_deaths  r1_items    ...     hero_103  \\\n",
       "match_id                                             ...                \n",
       "93221     1.419252  0.960583  -0.580809  1.484228    ...            0   \n",
       "63428    -1.128007 -0.538237  -0.580809 -0.115509    ...            0   \n",
       "79280    -0.906506 -0.538237   1.006288 -0.115509    ...            0   \n",
       "8743     -0.463505 -0.538237  -0.580809 -0.115509    ...            0   \n",
       "60159     1.087001 -0.538237  -0.580809  0.684359    ...            0   \n",
       "\n",
       "          hero_104  hero_105  hero_106  hero_107  hero_108  hero_109  \\\n",
       "match_id                                                               \n",
       "93221            0         0         0         0         0         0   \n",
       "63428            0         0         1         0         0         0   \n",
       "79280            0         0         0         0         0         0   \n",
       "8743             0         0         0         0         0         0   \n",
       "60159            0         0         0         0         0         0   \n",
       "\n",
       "          hero_110  hero_111  hero_112  \n",
       "match_id                                \n",
       "93221            0         0        -1  \n",
       "63428            0         0         0  \n",
       "79280            0         0         1  \n",
       "8743            -1         0         0  \n",
       "60159            0         0         0  \n",
       "\n",
       "[5 rows x 214 columns]"
      ]
     },
     "execution_count": 20,
     "metadata": {},
     "output_type": "execute_result"
    }
   ],
   "source": [
    "X_train_with_heroes.head()"
   ]
  },
  {
   "cell_type": "markdown",
   "metadata": {},
   "source": [
    "Обучаемся с переменными по героям"
   ]
  },
  {
   "cell_type": "code",
   "execution_count": 21,
   "metadata": {
    "collapsed": false
   },
   "outputs": [
    {
     "name": "stderr",
     "output_type": "stream",
     "text": [
      "[Parallel(n_jobs=4)]: Done   5 tasks      | elapsed:   19.7s\n",
      "[Parallel(n_jobs=4)]: Done  10 tasks      | elapsed:   32.0s\n",
      "[Parallel(n_jobs=4)]: Done  17 tasks      | elapsed:   51.0s\n",
      "[Parallel(n_jobs=4)]: Done  24 tasks      | elapsed:  1.1min\n",
      "[Parallel(n_jobs=4)]: Done  35 out of  35 | elapsed:  1.3min finished\n"
     ]
    },
    {
     "name": "stdout",
     "output_type": "stream",
     "text": [
      "Fitting 5 folds for each of 7 candidates, totalling 35 fits\n",
      "Time elapsed: 0:01:22.235000\n",
      "       C     score\n",
      "0  1.000  0.751068\n",
      "1  0.500  0.751076\n",
      "2  0.200  0.751094\n",
      "3  0.100  0.751115\n",
      "4  0.050  0.751135\n",
      "5  0.010  0.750627\n",
      "6  0.001  0.741848\n"
     ]
    },
    {
     "data": {
      "image/png": "[encoded data removed]",
      "text/plain": [
       "<matplotlib.figure.Figure at 0x222b8d68>"
      ]
     },
     "metadata": {},
     "output_type": "display_data"
    }
   ],
   "source": [
    "from sklearn.linear_model import LogisticRegression\n",
    "from sklearn.grid_search import GridSearchCV\n",
    "from sklearn.ensemble import GradientBoostingClassifier\n",
    "from sklearn.cross_validation import KFold\n",
    "\n",
    "start_time = datetime.datetime.now()\n",
    "\n",
    "heroes = ['r%d_hero' % (p+1) for p in range(5)] + [ 'd%d_hero' % (p+1) for p in range(5)]\n",
    "\n",
    "five = KFold(len(X_train_with_heroes), n_folds=5, shuffle=True, random_state=1)\n",
    "\n",
    "parameters = {'C':[1,0.5, 0.2, 0.1, 0.05, 0.01, 0.001]}\n",
    "\n",
    "lg = LogisticRegression(random_state = 1)\n",
    "\n",
    "grid = GridSearchCV(lg, parameters, scoring='roc_auc',\n",
    "    cv=five, verbose = 10, n_jobs=4)\n",
    "\n",
    "grid.fit(X_train_with_heroes, y_train)\n",
    "\n",
    "print 'Time elapsed:', datetime.datetime.now() - start_time\n",
    "\n",
    "import matplotlib.cm as cm\n",
    "grid_scores = pd.DataFrame([[x.parameters['C'], x.mean_validation_score] \n",
    "                            for x in grid.grid_scores_], columns = ['C', 'score'])\n",
    "plot = grid_scores.plot(x = 'C', y = 'score', kind = 'bar', colormap=cm.winter)\n",
    "\n",
    "#plot.set_ylim([0.717,0.718])\n",
    "plot.set_title('cross-validation ROC-AUC')\n",
    "print grid_scores"
   ]
  },
  {
   "cell_type": "markdown",
   "metadata": {},
   "source": [
    "Видим сильный прирост качества, +4 п.п. !"
   ]
  },
  {
   "cell_type": "markdown",
   "metadata": {},
   "source": [
    "# Проверка финальной модели"
   ]
  },
  {
   "cell_type": "code",
   "execution_count": 24,
   "metadata": {
    "collapsed": false
   },
   "outputs": [],
   "source": [
    "data_eval = pd.read_csv('C:/Users/Ilya/Downloads/features_test.csv', index_col='match_id')\n",
    "data_eval = data_eval.fillna(data_eval.median())\n",
    "X_eval_std = pd.DataFrame(std.fit_transform(data_eval), columns = data_eval.columns, index = data_eval.index)\n",
    "\n",
    "X_pick_eval = np.zeros((data_eval.shape[0],112))\n",
    "\n",
    "for i, match_id in enumerate(data_eval.index):\n",
    "    for p in xrange(5):\n",
    "        X_pick_eval[i, data_eval.ix[match_id, 'r%d_hero' % (p+1)]-1] = 1\n",
    "        X_pick_eval[i, data_eval.ix[match_id, 'd%d_hero' % (p+1)]-1] = -1\n",
    "\n",
    "X_pick_eval = pd.DataFrame(X_pick_eval, index = data_eval.index, \n",
    "                      columns = ['hero_%d' % (p+1) for p in range(112)])\n",
    "\n",
    "X_eval_with_heroes = pd.concat([X_eval_std, X_pick_eval], axis = 1).dropna(axis=0).loc[X_eval_std.index,:]\n",
    "\n",
    "pd.Series(grid.best_estimator_.predict_proba(X_eval_with_heroes)[:,1], \n",
    "          index = X_eval_with_heroes.index).to_csv('C:/Users/Ilya/Downloads/Dota prediction.csv', header = ['radiant_win'])"
   ]
  },
  {
   "cell_type": "markdown",
   "metadata": {
    "collapsed": true
   },
   "source": [
    "Дает качество 0.75443"
   ]
  }
 ],
 "metadata": {
  "kernelspec": {
   "display_name": "Python 2",
   "language": "python",
   "name": "python2"
  },
  "language_info": {
   "codemirror_mode": {
    "name": "ipython",
    "version": 2
   },
   "file_extension": ".py",
   "mimetype": "text/x-python",
   "name": "python",
   "nbconvert_exporter": "python",
   "pygments_lexer": "ipython2",
   "version": "2.7.11"
  }
 },
 "nbformat": 4,
 "nbformat_minor": 0
}
